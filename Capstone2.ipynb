{
  "nbformat": 4,
  "nbformat_minor": 0,
  "metadata": {
    "colab": {
      "name": "Capstone2.ipynb",
      "provenance": [],
      "collapsed_sections": [],
      "toc_visible": true,
      "include_colab_link": true
    },
    "kernelspec": {
      "name": "python3",
      "display_name": "Python 3"
    },
    "language_info": {
      "name": "python"
    },
    "accelerator": "GPU"
  },
  "cells": [
    {
      "cell_type": "markdown",
      "metadata": {
        "id": "view-in-github",
        "colab_type": "text"
      },
      "source": [
        "<a href=\"https://colab.research.google.com/github/arcweld/DSI_Capstone_2/blob/main/Capstone2.ipynb\" target=\"_parent\"><img src=\"https://colab.research.google.com/assets/colab-badge.svg\" alt=\"Open In Colab\"/></a>"
      ]
    },
    {
      "cell_type": "markdown",
      "metadata": {
        "id": "QqIzjGpVhdin"
      },
      "source": [
        "# Introduction: Predictive Maintenance Project\n",
        "This notebook explores a database created by NASA, the \"Turbofan Engine Degradation Simulation Data Set\", by appying a variety of machine learning models and developing an understanding of how such models could help in the predictive maintenance decision making process."
      ]
    },
    {
      "cell_type": "markdown",
      "metadata": {
        "id": "eAdld9kGoQYo"
      },
      "source": [
        "# Imports"
      ]
    },
    {
      "cell_type": "code",
      "metadata": {
        "id": "9YT9D0bmdsv7"
      },
      "source": [
        "import os\n",
        "import zipfile\n",
        "import urllib\n",
        "\n",
        "import numpy as np\n",
        "import pandas as pd\n",
        "from pandas.plotting import scatter_matrix\n",
        "from scipy import stats\n",
        "\n",
        "%matplotlib inline\n",
        "import matplotlib.pyplot as plt\n",
        "# plt.rcParams['figure.figsize'] = [12, 12]\n",
        "plt.style.use('ggplot')\n",
        "\n",
        "import statsmodels.api as sm\n",
        "from statsmodels.sandbox.regression.predstd import wls_prediction_std\n",
        "\n",
        "from sklearn.linear_model import LinearRegression, LogisticRegression\n",
        "\n",
        "from sklearn.pipeline import make_pipeline\n",
        "from sklearn import preprocessing\n",
        "from sklearn.preprocessing import StandardScaler, MinMaxScaler\n",
        "from sklearn.metrics import accuracy_score, recall_score, precision_score, f1_score\n",
        "from sklearn.metrics import roc_auc_score, roc_curve, plot_roc_curve\n",
        "from sklearn.metrics import r2_score, mean_absolute_error, mean_squared_error, balanced_accuracy_score\n",
        "from sklearn.metrics import log_loss, make_scorer, confusion_matrix, ConfusionMatrixDisplay\n",
        "from sklearn.model_selection import cross_val_score, GridSearchCV, RandomizedSearchCV\n",
        "from sklearn.model_selection import train_test_split as tts\n",
        "from imblearn.over_sampling import SMOTE\n",
        "\n",
        "from sklearn.tree import DecisionTreeRegressor, DecisionTreeClassifier\n",
        "from sklearn.ensemble import RandomForestRegressor, RandomForestClassifier\n",
        "from sklearn.ensemble import GradientBoostingClassifier, GradientBoostingRegressor\n",
        "\n",
        "from lightgbm import LGBMClassifier\n",
        "\n",
        "import tensorflow as tf\n",
        "from tensorflow.keras import Sequential, callbacks\n",
        "from tensorflow.keras.layers import Dense, Dropout, LSTM, Activation\n",
        "import itertools\n"
      ],
      "execution_count": 17,
      "outputs": []
    },
    {
      "cell_type": "markdown",
      "metadata": {
        "id": "8sAJ6Sveofuq"
      },
      "source": [
        "# Modules and Helper Functions"
      ]
    },
    {
      "cell_type": "markdown",
      "metadata": {
        "id": "MlY07Vj3hxWf"
      },
      "source": [
        "### Data loading"
      ]
    },
    {
      "cell_type": "code",
      "metadata": {
        "id": "pZ3AVXgZd_cK"
      },
      "source": [
        "DOWNLOAD_ROOT = 'https://ti.arc.nasa.gov/'\n",
        "ENG_PATH = os.path.join('data','nasa_eng')\n",
        "ENG_URL = DOWNLOAD_ROOT + 'c/6' \n",
        "\n",
        "def fetch_eng_data(eng_url=ENG_URL, eng_path=ENG_PATH):\n",
        "    os.makedirs(eng_path, exist_ok=True)\n",
        "    if not os.path.exists(os.path.join(eng_path,'CMAPSSData.zip')):\n",
        "        zip_path = os.path.join(eng_path, 'CMAPSSData.zip')\n",
        "        urllib.request.urlretrieve(eng_url, zip_path)\n",
        "        eng_zip = zipfile.ZipFile(zip_path, 'r')\n",
        "        eng_zip.extractall(path=eng_path)\n",
        "        eng_zip.close()\n",
        "        print('All files downloaded and extracted')\n",
        "    else:\n",
        "        print('All files in place')\n",
        "        \n",
        "    \n",
        "def load_train_data(series_n=1):\n",
        "    new_col = [\"id\",\"cycle\",\"setting1\",\"setting2\",\"setting3\",\"s1\",\"s2\",\"s3\",\"s4\",\"s5\",\"s6\",\"s7\",\"s8\",\"s9\",\"s10\",\"s11\",\"s12\",\"s13\",\"s14\",\"s15\",\"s16\",\"s17\",\"s18\",\"s19\",\"s20\",\"s21\", 'x1', 'x2']\n",
        "    df = pd.read_csv(f'data/nasa_eng/train_FD00{series_n}.txt', sep=' ', names=new_col)\n",
        "    df.drop(['x1', 'x2'], axis=1, inplace=True)\n",
        "    return df\n",
        "\n",
        "    \n",
        "def load_test_data(series_n=1):\n",
        "    new_col = [\"id\",\"cycle\",\"setting1\",\"setting2\",\"setting3\",\"s1\",\"s2\",\"s3\",\"s4\",\"s5\",\"s6\",\"s7\",\"s8\",\"s9\",\"s10\",\"s11\",\"s12\",\"s13\",\"s14\",\"s15\",\"s16\",\"s17\",\"s18\",\"s19\",\"s20\",\"s21\", 'x1', 'x2']\n",
        "    df = pd.read_csv(f'data/nasa_eng/test_FD00{series_n}.txt', sep=' ', names=new_col, header=None)\n",
        "    df.drop(['x1', 'x2'], axis=1, inplace=True)\n",
        "    truth = pd.read_csv(f'data/nasa_eng/RUL_FD00{series_n}.txt', header=None, names=['eol'])\n",
        "    truth['id'] = truth.index +1\n",
        "    df = df.merge(truth, on=['id'], how='left')\n",
        "    return df\n",
        "\n"
      ],
      "execution_count": 18,
      "outputs": []
    },
    {
      "cell_type": "markdown",
      "metadata": {
        "id": "DHw0Igymh3_Q"
      },
      "source": [
        "### Data conditioning"
      ]
    },
    {
      "cell_type": "code",
      "metadata": {
        "id": "W15Vw6iFh3CL"
      },
      "source": [
        "def normalize_data(df1, *df2):\n",
        "    scale = MinMaxScaler()\n",
        "    scale.fit(df1.loc[:,'s1':'s21'])\n",
        "    scale.transform(df1.loc[:,'s1':'s21'])\n",
        "    if df2:\n",
        "        scale.transform(df2.loc[:,'s1':'s21'])\n",
        "        return df1, df2\n",
        "    return df1\n",
        "\n",
        "def add_labels(df):\n",
        "    if 'eol' not in df.columns:\n",
        "        fail = df.groupby('id').cycle.max()\n",
        "        df['eol'] = df['id'].apply(lambda x: fail[x])\n",
        "\n",
        "    df['RUL'] = df['eol'] - df['cycle']\n",
        "    # df.drop('eol', axis=1, inplace=True)\n",
        "    df['f30'] = df['RUL'].apply(lambda x: 2 if x <= 10 else 1 if x <=30 else 0)\n",
        "    df['f10'] = df['RUL'].apply(lambda x: 1 if x <= 10 else 0)\n",
        "\n",
        "    return df\n",
        "\n"
      ],
      "execution_count": 19,
      "outputs": []
    },
    {
      "cell_type": "markdown",
      "metadata": {
        "id": "xbJssvFrmCwU"
      },
      "source": [
        "### Test, train split"
      ]
    },
    {
      "cell_type": "code",
      "metadata": {
        "id": "OkSSDZ7plfuv"
      },
      "source": [
        "def tts(df0):\n",
        "    df = df0.copy()\n",
        "\n",
        "    n_eng = df['id'].unique()\n",
        "    test_index = np.random.choice(n_eng, int(0.2*len(n_eng)))\n",
        "    df_test = df[df['id'].isin(test_index)]\n",
        "    df_test.sort_values(by =['id', 'cycle'])\n",
        "    df_train = df[~df['id'].isin(test_index)]\n",
        "    df_train.sort_values(by =['id', 'cycle'])\n",
        "\n",
        "    return df_test, df_train \n",
        "\n",
        "def xy_split(df):\n",
        "    X = df.drop(['RUL','f10','f30', 'eol'], axis=1)\n",
        "    y_reg = df['RUL']\n",
        "    y_clf = df['f10']\n",
        "    y_mclf = df['f30']\n",
        "\n",
        "    return X, y_reg, y_clf, y_mclf"
      ],
      "execution_count": 20,
      "outputs": []
    },
    {
      "cell_type": "markdown",
      "metadata": {
        "id": "0MsST2e-hrlx"
      },
      "source": [
        "### Windowing"
      ]
    },
    {
      "cell_type": "code",
      "metadata": {
        "id": "nBhAQjJMhqVK"
      },
      "source": [
        "def window_avg_sd(df0, win=10): \n",
        "    df = df0.copy()\n",
        "    sensor = {f's{i}': [f'a{i}', f'sd{i}'] for i in range(1,22) }\n",
        "    if 'a1' in df.columns: \n",
        "        print('DF previously transformed')\n",
        "        return None\n",
        "    for s, agg in sensor.items():\n",
        "        for id in df.id.unique():\n",
        "            avg = df[s].groupby(df['id']).rolling(window=win, min_periods=4).mean()\n",
        "            sd = df[s].groupby(df['id']).rolling(window=win, min_periods=4).std()\n",
        "        df.insert(len(df.columns), f'{agg[0]}', avg.values)\n",
        "        df.insert(len(df.columns), f'{agg[1]}', sd.values)\n",
        "    \n",
        "    return df\n",
        "\n",
        "def window_trending(df0, win=10):    \n",
        "    df = df0.copy()\n",
        "    sensor = {f's{i}': [f'a{i}', f'sd{i}', f'max{i}', f'min{i}', f'incr{i}', f'dec{i}'] for i in range(1,22) }\n",
        "    if 'a1' in df.columns: \n",
        "        print('DF previously transformed')\n",
        "        return None\n",
        "    for s, agg in sensor.items():\n",
        "        for id in df.id.unique():\n",
        "            avg = df[s].groupby(df['id']).rolling(window=win, min_periods=4).mean()\n",
        "            sd = df[s].groupby(df['id']).rolling(window=win, min_periods=4).std()\n",
        "            max = df[s].groupby(df['id']).rolling(window=win, min_periods=4).max()\n",
        "            min = df[s].groupby(df['id']).rolling(window=win, min_periods=4).min()\n",
        "        df.insert(len(df.columns), f'{agg[0]}', avg.values)\n",
        "        df.insert(len(df.columns), f'{agg[1]}', sd.values)\n",
        "        df.insert(len(df.columns), f'{agg[2]}', max.values)\n",
        "        df.insert(len(df.columns), f'{agg[3]}', min.values)\n",
        "\n",
        "        df[agg[4]] = df[agg[0]] - df[agg[3]]\n",
        "        df[agg[5]] = df[agg[2]] - df[agg[0]]\n",
        "\n",
        "        df.dropna(inplace=True)\n",
        "\n",
        "    return df\n"
      ],
      "execution_count": 21,
      "outputs": []
    },
    {
      "cell_type": "markdown",
      "metadata": {
        "id": "g4UEMr5rhjXY"
      },
      "source": [
        "### Tensorflow"
      ]
    },
    {
      "cell_type": "code",
      "metadata": {
        "id": "7hWpPT-IhgZT"
      },
      "source": [
        "# function to reshape features into (samples, time steps, features) \n",
        "def gen_sequence(id_df, seq_length, seq_cols):\n",
        "    data_array = id_df[seq_cols].values\n",
        "    num_elements = data_array.shape[0]\n",
        "    for start, stop in zip(range(0, num_elements-seq_length), range(seq_length, num_elements)):\n",
        "        yield data_array[start:stop, :]\n",
        "        \n",
        "# function to generate labels\n",
        "def gen_labels(id_df, seq_length, label):\n",
        "    data_array = id_df[label].values\n",
        "    num_elements = data_array.shape[0]\n",
        "    return data_array[seq_length:num_elements, :]\n",
        "\n"
      ],
      "execution_count": 22,
      "outputs": []
    },
    {
      "cell_type": "markdown",
      "metadata": {
        "id": "RF6u-RK8oq8q"
      },
      "source": [
        "# Load Data"
      ]
    },
    {
      "cell_type": "code",
      "metadata": {
        "colab": {
          "base_uri": "https://localhost:8080/"
        },
        "id": "T9pi3XRWeJJ-",
        "outputId": "2df732dd-c16b-414b-98e0-fb8225ede2bb"
      },
      "source": [
        "fetch_eng_data()"
      ],
      "execution_count": 23,
      "outputs": [
        {
          "output_type": "stream",
          "text": [
            "All files in place\n"
          ],
          "name": "stdout"
        }
      ]
    },
    {
      "cell_type": "code",
      "metadata": {
        "id": "F6xkJatIePzR"
      },
      "source": [
        "df1 = add_labels(load_train_data(1))\n",
        "df_holdout = add_labels(load_test_data(1))\n"
      ],
      "execution_count": 24,
      "outputs": []
    },
    {
      "cell_type": "markdown",
      "metadata": {
        "id": "4ZoDWvoYo2uL"
      },
      "source": [
        "# Exploratory Data Analysis and Visualisation"
      ]
    },
    {
      "cell_type": "markdown",
      "metadata": {
        "id": "7AIH6-aggkHe"
      },
      "source": [
        "## Quicklooks"
      ]
    },
    {
      "cell_type": "markdown",
      "metadata": {
        "id": "BCC3rZOpno2J"
      },
      "source": [
        "### df1"
      ]
    },
    {
      "cell_type": "code",
      "metadata": {
        "id": "CzAbh9n1gjT3",
        "outputId": "5f397abf-043b-4feb-e8ed-f774efaa382a",
        "colab": {
          "base_uri": "https://localhost:8080/",
          "height": 223
        }
      },
      "source": [
        "df1.head()"
      ],
      "execution_count": 25,
      "outputs": [
        {
          "output_type": "execute_result",
          "data": {
            "text/html": [
              "<div>\n",
              "<style scoped>\n",
              "    .dataframe tbody tr th:only-of-type {\n",
              "        vertical-align: middle;\n",
              "    }\n",
              "\n",
              "    .dataframe tbody tr th {\n",
              "        vertical-align: top;\n",
              "    }\n",
              "\n",
              "    .dataframe thead th {\n",
              "        text-align: right;\n",
              "    }\n",
              "</style>\n",
              "<table border=\"1\" class=\"dataframe\">\n",
              "  <thead>\n",
              "    <tr style=\"text-align: right;\">\n",
              "      <th></th>\n",
              "      <th>id</th>\n",
              "      <th>cycle</th>\n",
              "      <th>setting1</th>\n",
              "      <th>setting2</th>\n",
              "      <th>setting3</th>\n",
              "      <th>s1</th>\n",
              "      <th>s2</th>\n",
              "      <th>s3</th>\n",
              "      <th>s4</th>\n",
              "      <th>s5</th>\n",
              "      <th>s6</th>\n",
              "      <th>s7</th>\n",
              "      <th>s8</th>\n",
              "      <th>s9</th>\n",
              "      <th>s10</th>\n",
              "      <th>s11</th>\n",
              "      <th>s12</th>\n",
              "      <th>s13</th>\n",
              "      <th>s14</th>\n",
              "      <th>s15</th>\n",
              "      <th>s16</th>\n",
              "      <th>s17</th>\n",
              "      <th>s18</th>\n",
              "      <th>s19</th>\n",
              "      <th>s20</th>\n",
              "      <th>s21</th>\n",
              "      <th>eol</th>\n",
              "      <th>RUL</th>\n",
              "      <th>f30</th>\n",
              "      <th>f10</th>\n",
              "    </tr>\n",
              "  </thead>\n",
              "  <tbody>\n",
              "    <tr>\n",
              "      <th>0</th>\n",
              "      <td>1</td>\n",
              "      <td>1</td>\n",
              "      <td>-0.0007</td>\n",
              "      <td>-0.0004</td>\n",
              "      <td>100.0</td>\n",
              "      <td>518.67</td>\n",
              "      <td>641.82</td>\n",
              "      <td>1589.70</td>\n",
              "      <td>1400.60</td>\n",
              "      <td>14.62</td>\n",
              "      <td>21.61</td>\n",
              "      <td>554.36</td>\n",
              "      <td>2388.06</td>\n",
              "      <td>9046.19</td>\n",
              "      <td>1.3</td>\n",
              "      <td>47.47</td>\n",
              "      <td>521.66</td>\n",
              "      <td>2388.02</td>\n",
              "      <td>8138.62</td>\n",
              "      <td>8.4195</td>\n",
              "      <td>0.03</td>\n",
              "      <td>392</td>\n",
              "      <td>2388</td>\n",
              "      <td>100.0</td>\n",
              "      <td>39.06</td>\n",
              "      <td>23.4190</td>\n",
              "      <td>192</td>\n",
              "      <td>191</td>\n",
              "      <td>0</td>\n",
              "      <td>0</td>\n",
              "    </tr>\n",
              "    <tr>\n",
              "      <th>1</th>\n",
              "      <td>1</td>\n",
              "      <td>2</td>\n",
              "      <td>0.0019</td>\n",
              "      <td>-0.0003</td>\n",
              "      <td>100.0</td>\n",
              "      <td>518.67</td>\n",
              "      <td>642.15</td>\n",
              "      <td>1591.82</td>\n",
              "      <td>1403.14</td>\n",
              "      <td>14.62</td>\n",
              "      <td>21.61</td>\n",
              "      <td>553.75</td>\n",
              "      <td>2388.04</td>\n",
              "      <td>9044.07</td>\n",
              "      <td>1.3</td>\n",
              "      <td>47.49</td>\n",
              "      <td>522.28</td>\n",
              "      <td>2388.07</td>\n",
              "      <td>8131.49</td>\n",
              "      <td>8.4318</td>\n",
              "      <td>0.03</td>\n",
              "      <td>392</td>\n",
              "      <td>2388</td>\n",
              "      <td>100.0</td>\n",
              "      <td>39.00</td>\n",
              "      <td>23.4236</td>\n",
              "      <td>192</td>\n",
              "      <td>190</td>\n",
              "      <td>0</td>\n",
              "      <td>0</td>\n",
              "    </tr>\n",
              "    <tr>\n",
              "      <th>2</th>\n",
              "      <td>1</td>\n",
              "      <td>3</td>\n",
              "      <td>-0.0043</td>\n",
              "      <td>0.0003</td>\n",
              "      <td>100.0</td>\n",
              "      <td>518.67</td>\n",
              "      <td>642.35</td>\n",
              "      <td>1587.99</td>\n",
              "      <td>1404.20</td>\n",
              "      <td>14.62</td>\n",
              "      <td>21.61</td>\n",
              "      <td>554.26</td>\n",
              "      <td>2388.08</td>\n",
              "      <td>9052.94</td>\n",
              "      <td>1.3</td>\n",
              "      <td>47.27</td>\n",
              "      <td>522.42</td>\n",
              "      <td>2388.03</td>\n",
              "      <td>8133.23</td>\n",
              "      <td>8.4178</td>\n",
              "      <td>0.03</td>\n",
              "      <td>390</td>\n",
              "      <td>2388</td>\n",
              "      <td>100.0</td>\n",
              "      <td>38.95</td>\n",
              "      <td>23.3442</td>\n",
              "      <td>192</td>\n",
              "      <td>189</td>\n",
              "      <td>0</td>\n",
              "      <td>0</td>\n",
              "    </tr>\n",
              "    <tr>\n",
              "      <th>3</th>\n",
              "      <td>1</td>\n",
              "      <td>4</td>\n",
              "      <td>0.0007</td>\n",
              "      <td>0.0000</td>\n",
              "      <td>100.0</td>\n",
              "      <td>518.67</td>\n",
              "      <td>642.35</td>\n",
              "      <td>1582.79</td>\n",
              "      <td>1401.87</td>\n",
              "      <td>14.62</td>\n",
              "      <td>21.61</td>\n",
              "      <td>554.45</td>\n",
              "      <td>2388.11</td>\n",
              "      <td>9049.48</td>\n",
              "      <td>1.3</td>\n",
              "      <td>47.13</td>\n",
              "      <td>522.86</td>\n",
              "      <td>2388.08</td>\n",
              "      <td>8133.83</td>\n",
              "      <td>8.3682</td>\n",
              "      <td>0.03</td>\n",
              "      <td>392</td>\n",
              "      <td>2388</td>\n",
              "      <td>100.0</td>\n",
              "      <td>38.88</td>\n",
              "      <td>23.3739</td>\n",
              "      <td>192</td>\n",
              "      <td>188</td>\n",
              "      <td>0</td>\n",
              "      <td>0</td>\n",
              "    </tr>\n",
              "    <tr>\n",
              "      <th>4</th>\n",
              "      <td>1</td>\n",
              "      <td>5</td>\n",
              "      <td>-0.0019</td>\n",
              "      <td>-0.0002</td>\n",
              "      <td>100.0</td>\n",
              "      <td>518.67</td>\n",
              "      <td>642.37</td>\n",
              "      <td>1582.85</td>\n",
              "      <td>1406.22</td>\n",
              "      <td>14.62</td>\n",
              "      <td>21.61</td>\n",
              "      <td>554.00</td>\n",
              "      <td>2388.06</td>\n",
              "      <td>9055.15</td>\n",
              "      <td>1.3</td>\n",
              "      <td>47.28</td>\n",
              "      <td>522.19</td>\n",
              "      <td>2388.04</td>\n",
              "      <td>8133.80</td>\n",
              "      <td>8.4294</td>\n",
              "      <td>0.03</td>\n",
              "      <td>393</td>\n",
              "      <td>2388</td>\n",
              "      <td>100.0</td>\n",
              "      <td>38.90</td>\n",
              "      <td>23.4044</td>\n",
              "      <td>192</td>\n",
              "      <td>187</td>\n",
              "      <td>0</td>\n",
              "      <td>0</td>\n",
              "    </tr>\n",
              "  </tbody>\n",
              "</table>\n",
              "</div>"
            ],
            "text/plain": [
              "   id  cycle  setting1  setting2  setting3  ...      s21  eol  RUL  f30  f10\n",
              "0   1      1   -0.0007   -0.0004     100.0  ...  23.4190  192  191    0    0\n",
              "1   1      2    0.0019   -0.0003     100.0  ...  23.4236  192  190    0    0\n",
              "2   1      3   -0.0043    0.0003     100.0  ...  23.3442  192  189    0    0\n",
              "3   1      4    0.0007    0.0000     100.0  ...  23.3739  192  188    0    0\n",
              "4   1      5   -0.0019   -0.0002     100.0  ...  23.4044  192  187    0    0\n",
              "\n",
              "[5 rows x 30 columns]"
            ]
          },
          "metadata": {
            "tags": []
          },
          "execution_count": 25
        }
      ]
    },
    {
      "cell_type": "code",
      "metadata": {
        "id": "K4zFiEBwg0ko",
        "outputId": "b2669c58-8e5a-4b83-869b-f13c2bcb2dc4",
        "colab": {
          "base_uri": "https://localhost:8080/",
          "height": 315
        }
      },
      "source": [
        "df1.describe()"
      ],
      "execution_count": 26,
      "outputs": [
        {
          "output_type": "execute_result",
          "data": {
            "text/html": [
              "<div>\n",
              "<style scoped>\n",
              "    .dataframe tbody tr th:only-of-type {\n",
              "        vertical-align: middle;\n",
              "    }\n",
              "\n",
              "    .dataframe tbody tr th {\n",
              "        vertical-align: top;\n",
              "    }\n",
              "\n",
              "    .dataframe thead th {\n",
              "        text-align: right;\n",
              "    }\n",
              "</style>\n",
              "<table border=\"1\" class=\"dataframe\">\n",
              "  <thead>\n",
              "    <tr style=\"text-align: right;\">\n",
              "      <th></th>\n",
              "      <th>id</th>\n",
              "      <th>cycle</th>\n",
              "      <th>setting1</th>\n",
              "      <th>setting2</th>\n",
              "      <th>setting3</th>\n",
              "      <th>s1</th>\n",
              "      <th>s2</th>\n",
              "      <th>s3</th>\n",
              "      <th>s4</th>\n",
              "      <th>s5</th>\n",
              "      <th>s6</th>\n",
              "      <th>s7</th>\n",
              "      <th>s8</th>\n",
              "      <th>s9</th>\n",
              "      <th>s10</th>\n",
              "      <th>s11</th>\n",
              "      <th>s12</th>\n",
              "      <th>s13</th>\n",
              "      <th>s14</th>\n",
              "      <th>s15</th>\n",
              "      <th>s16</th>\n",
              "      <th>s17</th>\n",
              "      <th>s18</th>\n",
              "      <th>s19</th>\n",
              "      <th>s20</th>\n",
              "      <th>s21</th>\n",
              "      <th>eol</th>\n",
              "      <th>RUL</th>\n",
              "      <th>f30</th>\n",
              "      <th>f10</th>\n",
              "    </tr>\n",
              "  </thead>\n",
              "  <tbody>\n",
              "    <tr>\n",
              "      <th>count</th>\n",
              "      <td>20631.000000</td>\n",
              "      <td>20631.000000</td>\n",
              "      <td>20631.000000</td>\n",
              "      <td>20631.000000</td>\n",
              "      <td>20631.0</td>\n",
              "      <td>2.063100e+04</td>\n",
              "      <td>20631.000000</td>\n",
              "      <td>20631.000000</td>\n",
              "      <td>20631.000000</td>\n",
              "      <td>2.063100e+04</td>\n",
              "      <td>20631.000000</td>\n",
              "      <td>20631.000000</td>\n",
              "      <td>20631.000000</td>\n",
              "      <td>20631.000000</td>\n",
              "      <td>2.063100e+04</td>\n",
              "      <td>20631.000000</td>\n",
              "      <td>20631.000000</td>\n",
              "      <td>20631.000000</td>\n",
              "      <td>20631.000000</td>\n",
              "      <td>20631.000000</td>\n",
              "      <td>2.063100e+04</td>\n",
              "      <td>20631.000000</td>\n",
              "      <td>20631.0</td>\n",
              "      <td>20631.0</td>\n",
              "      <td>20631.000000</td>\n",
              "      <td>20631.000000</td>\n",
              "      <td>20631.000000</td>\n",
              "      <td>20631.000000</td>\n",
              "      <td>20631.000000</td>\n",
              "      <td>20631.000000</td>\n",
              "    </tr>\n",
              "    <tr>\n",
              "      <th>mean</th>\n",
              "      <td>51.506568</td>\n",
              "      <td>108.807862</td>\n",
              "      <td>-0.000009</td>\n",
              "      <td>0.000002</td>\n",
              "      <td>100.0</td>\n",
              "      <td>5.186700e+02</td>\n",
              "      <td>642.680934</td>\n",
              "      <td>1590.523119</td>\n",
              "      <td>1408.933782</td>\n",
              "      <td>1.462000e+01</td>\n",
              "      <td>21.609803</td>\n",
              "      <td>553.367711</td>\n",
              "      <td>2388.096652</td>\n",
              "      <td>9065.242941</td>\n",
              "      <td>1.300000e+00</td>\n",
              "      <td>47.541168</td>\n",
              "      <td>521.413470</td>\n",
              "      <td>2388.096152</td>\n",
              "      <td>8143.752722</td>\n",
              "      <td>8.442146</td>\n",
              "      <td>3.000000e-02</td>\n",
              "      <td>393.210654</td>\n",
              "      <td>2388.0</td>\n",
              "      <td>100.0</td>\n",
              "      <td>38.816271</td>\n",
              "      <td>23.289705</td>\n",
              "      <td>216.615724</td>\n",
              "      <td>107.807862</td>\n",
              "      <td>0.203577</td>\n",
              "      <td>0.053318</td>\n",
              "    </tr>\n",
              "    <tr>\n",
              "      <th>std</th>\n",
              "      <td>29.227633</td>\n",
              "      <td>68.880990</td>\n",
              "      <td>0.002187</td>\n",
              "      <td>0.000293</td>\n",
              "      <td>0.0</td>\n",
              "      <td>6.537152e-11</td>\n",
              "      <td>0.500053</td>\n",
              "      <td>6.131150</td>\n",
              "      <td>9.000605</td>\n",
              "      <td>3.394700e-12</td>\n",
              "      <td>0.001389</td>\n",
              "      <td>0.885092</td>\n",
              "      <td>0.070985</td>\n",
              "      <td>22.082880</td>\n",
              "      <td>4.660829e-13</td>\n",
              "      <td>0.267087</td>\n",
              "      <td>0.737553</td>\n",
              "      <td>0.071919</td>\n",
              "      <td>19.076176</td>\n",
              "      <td>0.037505</td>\n",
              "      <td>1.556432e-14</td>\n",
              "      <td>1.548763</td>\n",
              "      <td>0.0</td>\n",
              "      <td>0.0</td>\n",
              "      <td>0.180746</td>\n",
              "      <td>0.108251</td>\n",
              "      <td>50.028600</td>\n",
              "      <td>68.880990</td>\n",
              "      <td>0.518442</td>\n",
              "      <td>0.224672</td>\n",
              "    </tr>\n",
              "    <tr>\n",
              "      <th>min</th>\n",
              "      <td>1.000000</td>\n",
              "      <td>1.000000</td>\n",
              "      <td>-0.008700</td>\n",
              "      <td>-0.000600</td>\n",
              "      <td>100.0</td>\n",
              "      <td>5.186700e+02</td>\n",
              "      <td>641.210000</td>\n",
              "      <td>1571.040000</td>\n",
              "      <td>1382.250000</td>\n",
              "      <td>1.462000e+01</td>\n",
              "      <td>21.600000</td>\n",
              "      <td>549.850000</td>\n",
              "      <td>2387.900000</td>\n",
              "      <td>9021.730000</td>\n",
              "      <td>1.300000e+00</td>\n",
              "      <td>46.850000</td>\n",
              "      <td>518.690000</td>\n",
              "      <td>2387.880000</td>\n",
              "      <td>8099.940000</td>\n",
              "      <td>8.324900</td>\n",
              "      <td>3.000000e-02</td>\n",
              "      <td>388.000000</td>\n",
              "      <td>2388.0</td>\n",
              "      <td>100.0</td>\n",
              "      <td>38.140000</td>\n",
              "      <td>22.894200</td>\n",
              "      <td>128.000000</td>\n",
              "      <td>0.000000</td>\n",
              "      <td>0.000000</td>\n",
              "      <td>0.000000</td>\n",
              "    </tr>\n",
              "    <tr>\n",
              "      <th>25%</th>\n",
              "      <td>26.000000</td>\n",
              "      <td>52.000000</td>\n",
              "      <td>-0.001500</td>\n",
              "      <td>-0.000200</td>\n",
              "      <td>100.0</td>\n",
              "      <td>5.186700e+02</td>\n",
              "      <td>642.325000</td>\n",
              "      <td>1586.260000</td>\n",
              "      <td>1402.360000</td>\n",
              "      <td>1.462000e+01</td>\n",
              "      <td>21.610000</td>\n",
              "      <td>552.810000</td>\n",
              "      <td>2388.050000</td>\n",
              "      <td>9053.100000</td>\n",
              "      <td>1.300000e+00</td>\n",
              "      <td>47.350000</td>\n",
              "      <td>520.960000</td>\n",
              "      <td>2388.040000</td>\n",
              "      <td>8133.245000</td>\n",
              "      <td>8.414900</td>\n",
              "      <td>3.000000e-02</td>\n",
              "      <td>392.000000</td>\n",
              "      <td>2388.0</td>\n",
              "      <td>100.0</td>\n",
              "      <td>38.700000</td>\n",
              "      <td>23.221800</td>\n",
              "      <td>185.000000</td>\n",
              "      <td>51.000000</td>\n",
              "      <td>0.000000</td>\n",
              "      <td>0.000000</td>\n",
              "    </tr>\n",
              "    <tr>\n",
              "      <th>50%</th>\n",
              "      <td>52.000000</td>\n",
              "      <td>104.000000</td>\n",
              "      <td>0.000000</td>\n",
              "      <td>0.000000</td>\n",
              "      <td>100.0</td>\n",
              "      <td>5.186700e+02</td>\n",
              "      <td>642.640000</td>\n",
              "      <td>1590.100000</td>\n",
              "      <td>1408.040000</td>\n",
              "      <td>1.462000e+01</td>\n",
              "      <td>21.610000</td>\n",
              "      <td>553.440000</td>\n",
              "      <td>2388.090000</td>\n",
              "      <td>9060.660000</td>\n",
              "      <td>1.300000e+00</td>\n",
              "      <td>47.510000</td>\n",
              "      <td>521.480000</td>\n",
              "      <td>2388.090000</td>\n",
              "      <td>8140.540000</td>\n",
              "      <td>8.438900</td>\n",
              "      <td>3.000000e-02</td>\n",
              "      <td>393.000000</td>\n",
              "      <td>2388.0</td>\n",
              "      <td>100.0</td>\n",
              "      <td>38.830000</td>\n",
              "      <td>23.297900</td>\n",
              "      <td>207.000000</td>\n",
              "      <td>103.000000</td>\n",
              "      <td>0.000000</td>\n",
              "      <td>0.000000</td>\n",
              "    </tr>\n",
              "    <tr>\n",
              "      <th>75%</th>\n",
              "      <td>77.000000</td>\n",
              "      <td>156.000000</td>\n",
              "      <td>0.001500</td>\n",
              "      <td>0.000300</td>\n",
              "      <td>100.0</td>\n",
              "      <td>5.186700e+02</td>\n",
              "      <td>643.000000</td>\n",
              "      <td>1594.380000</td>\n",
              "      <td>1414.555000</td>\n",
              "      <td>1.462000e+01</td>\n",
              "      <td>21.610000</td>\n",
              "      <td>554.010000</td>\n",
              "      <td>2388.140000</td>\n",
              "      <td>9069.420000</td>\n",
              "      <td>1.300000e+00</td>\n",
              "      <td>47.700000</td>\n",
              "      <td>521.950000</td>\n",
              "      <td>2388.140000</td>\n",
              "      <td>8148.310000</td>\n",
              "      <td>8.465600</td>\n",
              "      <td>3.000000e-02</td>\n",
              "      <td>394.000000</td>\n",
              "      <td>2388.0</td>\n",
              "      <td>100.0</td>\n",
              "      <td>38.950000</td>\n",
              "      <td>23.366800</td>\n",
              "      <td>240.000000</td>\n",
              "      <td>155.000000</td>\n",
              "      <td>0.000000</td>\n",
              "      <td>0.000000</td>\n",
              "    </tr>\n",
              "    <tr>\n",
              "      <th>max</th>\n",
              "      <td>100.000000</td>\n",
              "      <td>362.000000</td>\n",
              "      <td>0.008700</td>\n",
              "      <td>0.000600</td>\n",
              "      <td>100.0</td>\n",
              "      <td>5.186700e+02</td>\n",
              "      <td>644.530000</td>\n",
              "      <td>1616.910000</td>\n",
              "      <td>1441.490000</td>\n",
              "      <td>1.462000e+01</td>\n",
              "      <td>21.610000</td>\n",
              "      <td>556.060000</td>\n",
              "      <td>2388.560000</td>\n",
              "      <td>9244.590000</td>\n",
              "      <td>1.300000e+00</td>\n",
              "      <td>48.530000</td>\n",
              "      <td>523.380000</td>\n",
              "      <td>2388.560000</td>\n",
              "      <td>8293.720000</td>\n",
              "      <td>8.584800</td>\n",
              "      <td>3.000000e-02</td>\n",
              "      <td>400.000000</td>\n",
              "      <td>2388.0</td>\n",
              "      <td>100.0</td>\n",
              "      <td>39.430000</td>\n",
              "      <td>23.618400</td>\n",
              "      <td>362.000000</td>\n",
              "      <td>361.000000</td>\n",
              "      <td>2.000000</td>\n",
              "      <td>1.000000</td>\n",
              "    </tr>\n",
              "  </tbody>\n",
              "</table>\n",
              "</div>"
            ],
            "text/plain": [
              "                 id         cycle  ...           f30           f10\n",
              "count  20631.000000  20631.000000  ...  20631.000000  20631.000000\n",
              "mean      51.506568    108.807862  ...      0.203577      0.053318\n",
              "std       29.227633     68.880990  ...      0.518442      0.224672\n",
              "min        1.000000      1.000000  ...      0.000000      0.000000\n",
              "25%       26.000000     52.000000  ...      0.000000      0.000000\n",
              "50%       52.000000    104.000000  ...      0.000000      0.000000\n",
              "75%       77.000000    156.000000  ...      0.000000      0.000000\n",
              "max      100.000000    362.000000  ...      2.000000      1.000000\n",
              "\n",
              "[8 rows x 30 columns]"
            ]
          },
          "metadata": {
            "tags": []
          },
          "execution_count": 26
        }
      ]
    },
    {
      "cell_type": "code",
      "metadata": {
        "id": "35fGMR3Cg3lC",
        "outputId": "cf5ab7e0-3a0e-47f9-eda4-8fea8fd2f2e0",
        "colab": {
          "base_uri": "https://localhost:8080/"
        }
      },
      "source": [
        "df1.info()"
      ],
      "execution_count": 27,
      "outputs": [
        {
          "output_type": "stream",
          "text": [
            "<class 'pandas.core.frame.DataFrame'>\n",
            "RangeIndex: 20631 entries, 0 to 20630\n",
            "Data columns (total 30 columns):\n",
            " #   Column    Non-Null Count  Dtype  \n",
            "---  ------    --------------  -----  \n",
            " 0   id        20631 non-null  int64  \n",
            " 1   cycle     20631 non-null  int64  \n",
            " 2   setting1  20631 non-null  float64\n",
            " 3   setting2  20631 non-null  float64\n",
            " 4   setting3  20631 non-null  float64\n",
            " 5   s1        20631 non-null  float64\n",
            " 6   s2        20631 non-null  float64\n",
            " 7   s3        20631 non-null  float64\n",
            " 8   s4        20631 non-null  float64\n",
            " 9   s5        20631 non-null  float64\n",
            " 10  s6        20631 non-null  float64\n",
            " 11  s7        20631 non-null  float64\n",
            " 12  s8        20631 non-null  float64\n",
            " 13  s9        20631 non-null  float64\n",
            " 14  s10       20631 non-null  float64\n",
            " 15  s11       20631 non-null  float64\n",
            " 16  s12       20631 non-null  float64\n",
            " 17  s13       20631 non-null  float64\n",
            " 18  s14       20631 non-null  float64\n",
            " 19  s15       20631 non-null  float64\n",
            " 20  s16       20631 non-null  float64\n",
            " 21  s17       20631 non-null  int64  \n",
            " 22  s18       20631 non-null  int64  \n",
            " 23  s19       20631 non-null  float64\n",
            " 24  s20       20631 non-null  float64\n",
            " 25  s21       20631 non-null  float64\n",
            " 26  eol       20631 non-null  int64  \n",
            " 27  RUL       20631 non-null  int64  \n",
            " 28  f30       20631 non-null  int64  \n",
            " 29  f10       20631 non-null  int64  \n",
            "dtypes: float64(22), int64(8)\n",
            "memory usage: 4.7 MB\n"
          ],
          "name": "stdout"
        }
      ]
    },
    {
      "cell_type": "code",
      "metadata": {
        "id": "3GRCsTS5-xYd",
        "outputId": "4a578539-2943-4a26-9f87-888769dda86a",
        "colab": {
          "base_uri": "https://localhost:8080/"
        }
      },
      "source": [
        "df1.eol.unique()"
      ],
      "execution_count": 28,
      "outputs": [
        {
          "output_type": "execute_result",
          "data": {
            "text/plain": [
              "array([192, 287, 179, 189, 269, 188, 259, 150, 201, 222, 240, 170, 163,\n",
              "       180, 207, 209, 276, 195, 158, 234, 202, 168, 147, 230, 199, 156,\n",
              "       165, 194, 191, 200, 181, 128, 216, 196, 256, 214, 231, 215, 198,\n",
              "       213, 257, 193, 275, 137, 172, 185, 174, 283, 153, 313, 362, 208,\n",
              "       166, 229, 210, 154, 293, 267, 278, 178, 217, 135, 341, 155, 258,\n",
              "       336])"
            ]
          },
          "metadata": {
            "tags": []
          },
          "execution_count": 28
        }
      ]
    },
    {
      "cell_type": "code",
      "metadata": {
        "id": "X73rDrxI_WJR",
        "colab": {
          "base_uri": "https://localhost:8080/"
        },
        "outputId": "a20d9a86-670a-476c-d7b4-9d453fdf95bb"
      },
      "source": [
        "df1.eol.max(), df1.eol.min()"
      ],
      "execution_count": 29,
      "outputs": [
        {
          "output_type": "execute_result",
          "data": {
            "text/plain": [
              "(362, 128)"
            ]
          },
          "metadata": {
            "tags": []
          },
          "execution_count": 29
        }
      ]
    },
    {
      "cell_type": "markdown",
      "metadata": {
        "id": "NLFuMfkqoGoV"
      },
      "source": [
        "### df2"
      ]
    },
    {
      "cell_type": "code",
      "metadata": {
        "id": "yDTHF5KTgrR3",
        "outputId": "13df1ac6-918f-46a8-80c3-1949505e63e2",
        "colab": {
          "base_uri": "https://localhost:8080/",
          "height": 336
        }
      },
      "source": [
        "df2.head()"
      ],
      "execution_count": 31,
      "outputs": [
        {
          "output_type": "execute_result",
          "data": {
            "text/html": [
              "<div>\n",
              "<style scoped>\n",
              "    .dataframe tbody tr th:only-of-type {\n",
              "        vertical-align: middle;\n",
              "    }\n",
              "\n",
              "    .dataframe tbody tr th {\n",
              "        vertical-align: top;\n",
              "    }\n",
              "\n",
              "    .dataframe thead th {\n",
              "        text-align: right;\n",
              "    }\n",
              "</style>\n",
              "<table border=\"1\" class=\"dataframe\">\n",
              "  <thead>\n",
              "    <tr style=\"text-align: right;\">\n",
              "      <th></th>\n",
              "      <th>id</th>\n",
              "      <th>cycle</th>\n",
              "      <th>setting1</th>\n",
              "      <th>setting2</th>\n",
              "      <th>setting3</th>\n",
              "      <th>s1</th>\n",
              "      <th>s2</th>\n",
              "      <th>s3</th>\n",
              "      <th>s4</th>\n",
              "      <th>s5</th>\n",
              "      <th>s6</th>\n",
              "      <th>s7</th>\n",
              "      <th>s8</th>\n",
              "      <th>s9</th>\n",
              "      <th>s10</th>\n",
              "      <th>s11</th>\n",
              "      <th>s12</th>\n",
              "      <th>s13</th>\n",
              "      <th>s14</th>\n",
              "      <th>s15</th>\n",
              "      <th>s16</th>\n",
              "      <th>s17</th>\n",
              "      <th>s18</th>\n",
              "      <th>s19</th>\n",
              "      <th>s20</th>\n",
              "      <th>s21</th>\n",
              "      <th>eol</th>\n",
              "      <th>RUL</th>\n",
              "      <th>f30</th>\n",
              "      <th>f10</th>\n",
              "      <th>a1</th>\n",
              "      <th>sd1</th>\n",
              "      <th>max1</th>\n",
              "      <th>min1</th>\n",
              "      <th>incr1</th>\n",
              "      <th>dec1</th>\n",
              "      <th>a2</th>\n",
              "      <th>sd2</th>\n",
              "      <th>max2</th>\n",
              "      <th>min2</th>\n",
              "      <th>...</th>\n",
              "      <th>max15</th>\n",
              "      <th>min15</th>\n",
              "      <th>incr15</th>\n",
              "      <th>dec15</th>\n",
              "      <th>a16</th>\n",
              "      <th>sd16</th>\n",
              "      <th>max16</th>\n",
              "      <th>min16</th>\n",
              "      <th>incr16</th>\n",
              "      <th>dec16</th>\n",
              "      <th>a17</th>\n",
              "      <th>sd17</th>\n",
              "      <th>max17</th>\n",
              "      <th>min17</th>\n",
              "      <th>incr17</th>\n",
              "      <th>dec17</th>\n",
              "      <th>a18</th>\n",
              "      <th>sd18</th>\n",
              "      <th>max18</th>\n",
              "      <th>min18</th>\n",
              "      <th>incr18</th>\n",
              "      <th>dec18</th>\n",
              "      <th>a19</th>\n",
              "      <th>sd19</th>\n",
              "      <th>max19</th>\n",
              "      <th>min19</th>\n",
              "      <th>incr19</th>\n",
              "      <th>dec19</th>\n",
              "      <th>a20</th>\n",
              "      <th>sd20</th>\n",
              "      <th>max20</th>\n",
              "      <th>min20</th>\n",
              "      <th>incr20</th>\n",
              "      <th>dec20</th>\n",
              "      <th>a21</th>\n",
              "      <th>sd21</th>\n",
              "      <th>max21</th>\n",
              "      <th>min21</th>\n",
              "      <th>incr21</th>\n",
              "      <th>dec21</th>\n",
              "    </tr>\n",
              "  </thead>\n",
              "  <tbody>\n",
              "    <tr>\n",
              "      <th>63</th>\n",
              "      <td>1</td>\n",
              "      <td>64</td>\n",
              "      <td>0.0017</td>\n",
              "      <td>0.0002</td>\n",
              "      <td>100.0</td>\n",
              "      <td>518.67</td>\n",
              "      <td>642.23</td>\n",
              "      <td>1584.51</td>\n",
              "      <td>1400.11</td>\n",
              "      <td>14.62</td>\n",
              "      <td>21.61</td>\n",
              "      <td>553.88</td>\n",
              "      <td>2388.10</td>\n",
              "      <td>9043.67</td>\n",
              "      <td>1.3</td>\n",
              "      <td>47.45</td>\n",
              "      <td>521.82</td>\n",
              "      <td>2388.04</td>\n",
              "      <td>8128.15</td>\n",
              "      <td>8.4066</td>\n",
              "      <td>0.03</td>\n",
              "      <td>391</td>\n",
              "      <td>2388</td>\n",
              "      <td>100.0</td>\n",
              "      <td>38.93</td>\n",
              "      <td>23.3840</td>\n",
              "      <td>192</td>\n",
              "      <td>128</td>\n",
              "      <td>0</td>\n",
              "      <td>0</td>\n",
              "      <td>518.67</td>\n",
              "      <td>0.0</td>\n",
              "      <td>518.67</td>\n",
              "      <td>518.67</td>\n",
              "      <td>0.0</td>\n",
              "      <td>0.0</td>\n",
              "      <td>642.270</td>\n",
              "      <td>0.206128</td>\n",
              "      <td>642.6</td>\n",
              "      <td>641.9</td>\n",
              "      <td>...</td>\n",
              "      <td>8.4476</td>\n",
              "      <td>8.3878</td>\n",
              "      <td>0.03007</td>\n",
              "      <td>0.02973</td>\n",
              "      <td>0.03</td>\n",
              "      <td>0.0</td>\n",
              "      <td>0.03</td>\n",
              "      <td>0.03</td>\n",
              "      <td>6.938894e-18</td>\n",
              "      <td>-6.938894e-18</td>\n",
              "      <td>391.7</td>\n",
              "      <td>1.159502</td>\n",
              "      <td>394.0</td>\n",
              "      <td>390.0</td>\n",
              "      <td>1.7</td>\n",
              "      <td>2.3</td>\n",
              "      <td>2388.0</td>\n",
              "      <td>0.0</td>\n",
              "      <td>2388.0</td>\n",
              "      <td>2388.0</td>\n",
              "      <td>0.0</td>\n",
              "      <td>0.0</td>\n",
              "      <td>100.0</td>\n",
              "      <td>0.0</td>\n",
              "      <td>100.0</td>\n",
              "      <td>100.0</td>\n",
              "      <td>0.0</td>\n",
              "      <td>0.0</td>\n",
              "      <td>38.908571</td>\n",
              "      <td>0.077121</td>\n",
              "      <td>39.03</td>\n",
              "      <td>38.77</td>\n",
              "      <td>0.138571</td>\n",
              "      <td>0.121429</td>\n",
              "      <td>23.340525</td>\n",
              "      <td>0.049386</td>\n",
              "      <td>23.384</td>\n",
              "      <td>23.2707</td>\n",
              "      <td>0.069825</td>\n",
              "      <td>0.043475</td>\n",
              "    </tr>\n",
              "    <tr>\n",
              "      <th>64</th>\n",
              "      <td>1</td>\n",
              "      <td>65</td>\n",
              "      <td>-0.0000</td>\n",
              "      <td>0.0005</td>\n",
              "      <td>100.0</td>\n",
              "      <td>518.67</td>\n",
              "      <td>642.28</td>\n",
              "      <td>1584.72</td>\n",
              "      <td>1403.24</td>\n",
              "      <td>14.62</td>\n",
              "      <td>21.61</td>\n",
              "      <td>553.97</td>\n",
              "      <td>2388.03</td>\n",
              "      <td>9044.01</td>\n",
              "      <td>1.3</td>\n",
              "      <td>47.56</td>\n",
              "      <td>521.54</td>\n",
              "      <td>2388.13</td>\n",
              "      <td>8132.94</td>\n",
              "      <td>8.4406</td>\n",
              "      <td>0.03</td>\n",
              "      <td>392</td>\n",
              "      <td>2388</td>\n",
              "      <td>100.0</td>\n",
              "      <td>38.90</td>\n",
              "      <td>23.3752</td>\n",
              "      <td>192</td>\n",
              "      <td>127</td>\n",
              "      <td>0</td>\n",
              "      <td>0</td>\n",
              "      <td>518.67</td>\n",
              "      <td>0.0</td>\n",
              "      <td>518.67</td>\n",
              "      <td>518.67</td>\n",
              "      <td>0.0</td>\n",
              "      <td>0.0</td>\n",
              "      <td>642.257</td>\n",
              "      <td>0.200336</td>\n",
              "      <td>642.6</td>\n",
              "      <td>641.9</td>\n",
              "      <td>...</td>\n",
              "      <td>8.4476</td>\n",
              "      <td>8.3878</td>\n",
              "      <td>0.03342</td>\n",
              "      <td>0.02638</td>\n",
              "      <td>0.03</td>\n",
              "      <td>0.0</td>\n",
              "      <td>0.03</td>\n",
              "      <td>0.03</td>\n",
              "      <td>6.938894e-18</td>\n",
              "      <td>-6.938894e-18</td>\n",
              "      <td>391.7</td>\n",
              "      <td>1.159502</td>\n",
              "      <td>394.0</td>\n",
              "      <td>390.0</td>\n",
              "      <td>1.7</td>\n",
              "      <td>2.3</td>\n",
              "      <td>2388.0</td>\n",
              "      <td>0.0</td>\n",
              "      <td>2388.0</td>\n",
              "      <td>2388.0</td>\n",
              "      <td>0.0</td>\n",
              "      <td>0.0</td>\n",
              "      <td>100.0</td>\n",
              "      <td>0.0</td>\n",
              "      <td>100.0</td>\n",
              "      <td>100.0</td>\n",
              "      <td>0.0</td>\n",
              "      <td>0.0</td>\n",
              "      <td>38.907500</td>\n",
              "      <td>0.071464</td>\n",
              "      <td>39.03</td>\n",
              "      <td>38.77</td>\n",
              "      <td>0.137500</td>\n",
              "      <td>0.122500</td>\n",
              "      <td>23.347460</td>\n",
              "      <td>0.045494</td>\n",
              "      <td>23.384</td>\n",
              "      <td>23.2707</td>\n",
              "      <td>0.076760</td>\n",
              "      <td>0.036540</td>\n",
              "    </tr>\n",
              "    <tr>\n",
              "      <th>65</th>\n",
              "      <td>1</td>\n",
              "      <td>66</td>\n",
              "      <td>-0.0007</td>\n",
              "      <td>-0.0004</td>\n",
              "      <td>100.0</td>\n",
              "      <td>518.67</td>\n",
              "      <td>642.50</td>\n",
              "      <td>1588.50</td>\n",
              "      <td>1399.52</td>\n",
              "      <td>14.62</td>\n",
              "      <td>21.61</td>\n",
              "      <td>554.00</td>\n",
              "      <td>2388.06</td>\n",
              "      <td>9059.45</td>\n",
              "      <td>1.3</td>\n",
              "      <td>47.14</td>\n",
              "      <td>521.76</td>\n",
              "      <td>2388.05</td>\n",
              "      <td>8128.32</td>\n",
              "      <td>8.3911</td>\n",
              "      <td>0.03</td>\n",
              "      <td>391</td>\n",
              "      <td>2388</td>\n",
              "      <td>100.0</td>\n",
              "      <td>38.95</td>\n",
              "      <td>23.3152</td>\n",
              "      <td>192</td>\n",
              "      <td>126</td>\n",
              "      <td>0</td>\n",
              "      <td>0</td>\n",
              "      <td>518.67</td>\n",
              "      <td>0.0</td>\n",
              "      <td>518.67</td>\n",
              "      <td>518.67</td>\n",
              "      <td>0.0</td>\n",
              "      <td>0.0</td>\n",
              "      <td>642.258</td>\n",
              "      <td>0.201649</td>\n",
              "      <td>642.6</td>\n",
              "      <td>641.9</td>\n",
              "      <td>...</td>\n",
              "      <td>8.4476</td>\n",
              "      <td>8.3878</td>\n",
              "      <td>0.03231</td>\n",
              "      <td>0.02749</td>\n",
              "      <td>0.03</td>\n",
              "      <td>0.0</td>\n",
              "      <td>0.03</td>\n",
              "      <td>0.03</td>\n",
              "      <td>6.938894e-18</td>\n",
              "      <td>-6.938894e-18</td>\n",
              "      <td>391.7</td>\n",
              "      <td>1.159502</td>\n",
              "      <td>394.0</td>\n",
              "      <td>390.0</td>\n",
              "      <td>1.7</td>\n",
              "      <td>2.3</td>\n",
              "      <td>2388.0</td>\n",
              "      <td>0.0</td>\n",
              "      <td>2388.0</td>\n",
              "      <td>2388.0</td>\n",
              "      <td>0.0</td>\n",
              "      <td>0.0</td>\n",
              "      <td>100.0</td>\n",
              "      <td>0.0</td>\n",
              "      <td>100.0</td>\n",
              "      <td>100.0</td>\n",
              "      <td>0.0</td>\n",
              "      <td>0.0</td>\n",
              "      <td>38.912222</td>\n",
              "      <td>0.068333</td>\n",
              "      <td>39.03</td>\n",
              "      <td>38.77</td>\n",
              "      <td>0.142222</td>\n",
              "      <td>0.117778</td>\n",
              "      <td>23.342083</td>\n",
              "      <td>0.042769</td>\n",
              "      <td>23.384</td>\n",
              "      <td>23.2707</td>\n",
              "      <td>0.071383</td>\n",
              "      <td>0.041917</td>\n",
              "    </tr>\n",
              "    <tr>\n",
              "      <th>66</th>\n",
              "      <td>1</td>\n",
              "      <td>67</td>\n",
              "      <td>0.0016</td>\n",
              "      <td>-0.0004</td>\n",
              "      <td>100.0</td>\n",
              "      <td>518.67</td>\n",
              "      <td>642.33</td>\n",
              "      <td>1590.22</td>\n",
              "      <td>1403.02</td>\n",
              "      <td>14.62</td>\n",
              "      <td>21.61</td>\n",
              "      <td>554.31</td>\n",
              "      <td>2388.10</td>\n",
              "      <td>9050.24</td>\n",
              "      <td>1.3</td>\n",
              "      <td>47.39</td>\n",
              "      <td>522.64</td>\n",
              "      <td>2388.08</td>\n",
              "      <td>8134.07</td>\n",
              "      <td>8.3925</td>\n",
              "      <td>0.03</td>\n",
              "      <td>393</td>\n",
              "      <td>2388</td>\n",
              "      <td>100.0</td>\n",
              "      <td>38.97</td>\n",
              "      <td>23.2910</td>\n",
              "      <td>192</td>\n",
              "      <td>125</td>\n",
              "      <td>0</td>\n",
              "      <td>0</td>\n",
              "      <td>518.67</td>\n",
              "      <td>0.0</td>\n",
              "      <td>518.67</td>\n",
              "      <td>518.67</td>\n",
              "      <td>0.0</td>\n",
              "      <td>0.0</td>\n",
              "      <td>642.278</td>\n",
              "      <td>0.197417</td>\n",
              "      <td>642.6</td>\n",
              "      <td>641.9</td>\n",
              "      <td>...</td>\n",
              "      <td>8.4476</td>\n",
              "      <td>8.3878</td>\n",
              "      <td>0.02893</td>\n",
              "      <td>0.03087</td>\n",
              "      <td>0.03</td>\n",
              "      <td>0.0</td>\n",
              "      <td>0.03</td>\n",
              "      <td>0.03</td>\n",
              "      <td>6.938894e-18</td>\n",
              "      <td>-6.938894e-18</td>\n",
              "      <td>391.8</td>\n",
              "      <td>1.229273</td>\n",
              "      <td>394.0</td>\n",
              "      <td>390.0</td>\n",
              "      <td>1.8</td>\n",
              "      <td>2.2</td>\n",
              "      <td>2388.0</td>\n",
              "      <td>0.0</td>\n",
              "      <td>2388.0</td>\n",
              "      <td>2388.0</td>\n",
              "      <td>0.0</td>\n",
              "      <td>0.0</td>\n",
              "      <td>100.0</td>\n",
              "      <td>0.0</td>\n",
              "      <td>100.0</td>\n",
              "      <td>100.0</td>\n",
              "      <td>0.0</td>\n",
              "      <td>0.0</td>\n",
              "      <td>38.918000</td>\n",
              "      <td>0.066966</td>\n",
              "      <td>39.03</td>\n",
              "      <td>38.77</td>\n",
              "      <td>0.148000</td>\n",
              "      <td>0.112000</td>\n",
              "      <td>23.334786</td>\n",
              "      <td>0.043556</td>\n",
              "      <td>23.384</td>\n",
              "      <td>23.2707</td>\n",
              "      <td>0.064086</td>\n",
              "      <td>0.049214</td>\n",
              "    </tr>\n",
              "    <tr>\n",
              "      <th>67</th>\n",
              "      <td>1</td>\n",
              "      <td>68</td>\n",
              "      <td>-0.0018</td>\n",
              "      <td>0.0000</td>\n",
              "      <td>100.0</td>\n",
              "      <td>518.67</td>\n",
              "      <td>642.51</td>\n",
              "      <td>1582.06</td>\n",
              "      <td>1404.42</td>\n",
              "      <td>14.62</td>\n",
              "      <td>21.61</td>\n",
              "      <td>554.04</td>\n",
              "      <td>2388.10</td>\n",
              "      <td>9051.78</td>\n",
              "      <td>1.3</td>\n",
              "      <td>47.36</td>\n",
              "      <td>521.72</td>\n",
              "      <td>2388.07</td>\n",
              "      <td>8132.39</td>\n",
              "      <td>8.4242</td>\n",
              "      <td>0.03</td>\n",
              "      <td>392</td>\n",
              "      <td>2388</td>\n",
              "      <td>100.0</td>\n",
              "      <td>38.95</td>\n",
              "      <td>23.3174</td>\n",
              "      <td>192</td>\n",
              "      <td>124</td>\n",
              "      <td>0</td>\n",
              "      <td>0</td>\n",
              "      <td>518.67</td>\n",
              "      <td>0.0</td>\n",
              "      <td>518.67</td>\n",
              "      <td>518.67</td>\n",
              "      <td>0.0</td>\n",
              "      <td>0.0</td>\n",
              "      <td>642.339</td>\n",
              "      <td>0.157935</td>\n",
              "      <td>642.6</td>\n",
              "      <td>642.1</td>\n",
              "      <td>...</td>\n",
              "      <td>8.4476</td>\n",
              "      <td>8.3878</td>\n",
              "      <td>0.02816</td>\n",
              "      <td>0.03164</td>\n",
              "      <td>0.03</td>\n",
              "      <td>0.0</td>\n",
              "      <td>0.03</td>\n",
              "      <td>0.03</td>\n",
              "      <td>6.938894e-18</td>\n",
              "      <td>-6.938894e-18</td>\n",
              "      <td>392.0</td>\n",
              "      <td>1.054093</td>\n",
              "      <td>394.0</td>\n",
              "      <td>391.0</td>\n",
              "      <td>1.0</td>\n",
              "      <td>2.0</td>\n",
              "      <td>2388.0</td>\n",
              "      <td>0.0</td>\n",
              "      <td>2388.0</td>\n",
              "      <td>2388.0</td>\n",
              "      <td>0.0</td>\n",
              "      <td>0.0</td>\n",
              "      <td>100.0</td>\n",
              "      <td>0.0</td>\n",
              "      <td>100.0</td>\n",
              "      <td>100.0</td>\n",
              "      <td>0.0</td>\n",
              "      <td>0.0</td>\n",
              "      <td>38.920000</td>\n",
              "      <td>0.067659</td>\n",
              "      <td>39.03</td>\n",
              "      <td>38.77</td>\n",
              "      <td>0.150000</td>\n",
              "      <td>0.110000</td>\n",
              "      <td>23.332612</td>\n",
              "      <td>0.040791</td>\n",
              "      <td>23.384</td>\n",
              "      <td>23.2707</td>\n",
              "      <td>0.061912</td>\n",
              "      <td>0.051388</td>\n",
              "    </tr>\n",
              "  </tbody>\n",
              "</table>\n",
              "<p>5 rows × 156 columns</p>\n",
              "</div>"
            ],
            "text/plain": [
              "    id  cycle  setting1  setting2  ...   max21    min21    incr21     dec21\n",
              "63   1     64    0.0017    0.0002  ...  23.384  23.2707  0.069825  0.043475\n",
              "64   1     65   -0.0000    0.0005  ...  23.384  23.2707  0.076760  0.036540\n",
              "65   1     66   -0.0007   -0.0004  ...  23.384  23.2707  0.071383  0.041917\n",
              "66   1     67    0.0016   -0.0004  ...  23.384  23.2707  0.064086  0.049214\n",
              "67   1     68   -0.0018    0.0000  ...  23.384  23.2707  0.061912  0.051388\n",
              "\n",
              "[5 rows x 156 columns]"
            ]
          },
          "metadata": {
            "tags": []
          },
          "execution_count": 31
        }
      ]
    },
    {
      "cell_type": "code",
      "metadata": {
        "id": "aAtMMzgt6qFz",
        "colab": {
          "base_uri": "https://localhost:8080/"
        },
        "outputId": "27d3a9cd-c2ca-4fe5-8272-d9db71879da3"
      },
      "source": [
        "df2.columns[0:5]"
      ],
      "execution_count": 32,
      "outputs": [
        {
          "output_type": "execute_result",
          "data": {
            "text/plain": [
              "Index(['id', 'cycle', 'setting1', 'setting2', 'setting3'], dtype='object')"
            ]
          },
          "metadata": {
            "tags": []
          },
          "execution_count": 32
        }
      ]
    },
    {
      "cell_type": "code",
      "metadata": {
        "id": "yU2uaG8q7CAX",
        "colab": {
          "base_uri": "https://localhost:8080/"
        },
        "outputId": "b26859a4-2b54-4270-878b-7484f5e70770"
      },
      "source": [
        "df2.columns[5:26]"
      ],
      "execution_count": 33,
      "outputs": [
        {
          "output_type": "execute_result",
          "data": {
            "text/plain": [
              "Index(['s1', 's2', 's3', 's4', 's5', 's6', 's7', 's8', 's9', 's10', 's11',\n",
              "       's12', 's13', 's14', 's15', 's16', 's17', 's18', 's19', 's20', 's21'],\n",
              "      dtype='object')"
            ]
          },
          "metadata": {
            "tags": []
          },
          "execution_count": 33
        }
      ]
    },
    {
      "cell_type": "code",
      "metadata": {
        "id": "AMy6I8yL7EWa",
        "colab": {
          "base_uri": "https://localhost:8080/"
        },
        "outputId": "666e373c-d853-431f-b276-2e9068fc0d56"
      },
      "source": [
        "df2.columns[26:30]"
      ],
      "execution_count": 34,
      "outputs": [
        {
          "output_type": "execute_result",
          "data": {
            "text/plain": [
              "Index(['eol', 'RUL', 'f30', 'f10'], dtype='object')"
            ]
          },
          "metadata": {
            "tags": []
          },
          "execution_count": 34
        }
      ]
    },
    {
      "cell_type": "code",
      "metadata": {
        "id": "WIwndEtr7Y2G",
        "colab": {
          "base_uri": "https://localhost:8080/"
        },
        "outputId": "3da697e8-09fe-4304-dd5d-9ef23268cad0"
      },
      "source": [
        "df2.columns[30:84]"
      ],
      "execution_count": 35,
      "outputs": [
        {
          "output_type": "execute_result",
          "data": {
            "text/plain": [
              "Index(['a1', 'sd1', 'max1', 'min1', 'incr1', 'dec1', 'a2', 'sd2', 'max2',\n",
              "       'min2', 'incr2', 'dec2', 'a3', 'sd3', 'max3', 'min3', 'incr3', 'dec3',\n",
              "       'a4', 'sd4', 'max4', 'min4', 'incr4', 'dec4', 'a5', 'sd5', 'max5',\n",
              "       'min5', 'incr5', 'dec5', 'a6', 'sd6', 'max6', 'min6', 'incr6', 'dec6',\n",
              "       'a7', 'sd7', 'max7', 'min7', 'incr7', 'dec7', 'a8', 'sd8', 'max8',\n",
              "       'min8', 'incr8', 'dec8', 'a9', 'sd9', 'max9', 'min9', 'incr9', 'dec9'],\n",
              "      dtype='object')"
            ]
          },
          "metadata": {
            "tags": []
          },
          "execution_count": 35
        }
      ]
    },
    {
      "cell_type": "code",
      "metadata": {
        "id": "1T3CWn527HGc",
        "colab": {
          "base_uri": "https://localhost:8080/"
        },
        "outputId": "de9d3d04-6e3c-4a7b-af86-8716dabbb01f"
      },
      "source": [
        "df2.columns[84:]"
      ],
      "execution_count": 36,
      "outputs": [
        {
          "output_type": "execute_result",
          "data": {
            "text/plain": [
              "Index(['a10', 'sd10', 'max10', 'min10', 'incr10', 'dec10', 'a11', 'sd11',\n",
              "       'max11', 'min11', 'incr11', 'dec11', 'a12', 'sd12', 'max12', 'min12',\n",
              "       'incr12', 'dec12', 'a13', 'sd13', 'max13', 'min13', 'incr13', 'dec13',\n",
              "       'a14', 'sd14', 'max14', 'min14', 'incr14', 'dec14', 'a15', 'sd15',\n",
              "       'max15', 'min15', 'incr15', 'dec15', 'a16', 'sd16', 'max16', 'min16',\n",
              "       'incr16', 'dec16', 'a17', 'sd17', 'max17', 'min17', 'incr17', 'dec17',\n",
              "       'a18', 'sd18', 'max18', 'min18', 'incr18', 'dec18', 'a19', 'sd19',\n",
              "       'max19', 'min19', 'incr19', 'dec19', 'a20', 'sd20', 'max20', 'min20',\n",
              "       'incr20', 'dec20', 'a21', 'sd21', 'max21', 'min21', 'incr21', 'dec21'],\n",
              "      dtype='object')"
            ]
          },
          "metadata": {
            "tags": []
          },
          "execution_count": 36
        }
      ]
    },
    {
      "cell_type": "code",
      "metadata": {
        "id": "vY5h04hug94F",
        "outputId": "003bdadd-a73d-4dbf-c3e5-a4e8ad0a2787",
        "colab": {
          "base_uri": "https://localhost:8080/",
          "height": 437
        }
      },
      "source": [
        "trim_col = np.array(df2.describe().loc['std',:]!=0)\n",
        "df2.loc[:,trim_col]"
      ],
      "execution_count": 37,
      "outputs": [
        {
          "output_type": "execute_result",
          "data": {
            "text/html": [
              "<div>\n",
              "<style scoped>\n",
              "    .dataframe tbody tr th:only-of-type {\n",
              "        vertical-align: middle;\n",
              "    }\n",
              "\n",
              "    .dataframe tbody tr th {\n",
              "        vertical-align: top;\n",
              "    }\n",
              "\n",
              "    .dataframe thead th {\n",
              "        text-align: right;\n",
              "    }\n",
              "</style>\n",
              "<table border=\"1\" class=\"dataframe\">\n",
              "  <thead>\n",
              "    <tr style=\"text-align: right;\">\n",
              "      <th></th>\n",
              "      <th>id</th>\n",
              "      <th>cycle</th>\n",
              "      <th>setting1</th>\n",
              "      <th>setting2</th>\n",
              "      <th>s1</th>\n",
              "      <th>s2</th>\n",
              "      <th>s3</th>\n",
              "      <th>s4</th>\n",
              "      <th>s5</th>\n",
              "      <th>s6</th>\n",
              "      <th>s7</th>\n",
              "      <th>s8</th>\n",
              "      <th>s9</th>\n",
              "      <th>s10</th>\n",
              "      <th>s11</th>\n",
              "      <th>s12</th>\n",
              "      <th>s13</th>\n",
              "      <th>s14</th>\n",
              "      <th>s15</th>\n",
              "      <th>s16</th>\n",
              "      <th>s17</th>\n",
              "      <th>s20</th>\n",
              "      <th>s21</th>\n",
              "      <th>eol</th>\n",
              "      <th>RUL</th>\n",
              "      <th>f30</th>\n",
              "      <th>f10</th>\n",
              "      <th>a1</th>\n",
              "      <th>max1</th>\n",
              "      <th>min1</th>\n",
              "      <th>a2</th>\n",
              "      <th>sd2</th>\n",
              "      <th>max2</th>\n",
              "      <th>min2</th>\n",
              "      <th>incr2</th>\n",
              "      <th>dec2</th>\n",
              "      <th>a3</th>\n",
              "      <th>sd3</th>\n",
              "      <th>max3</th>\n",
              "      <th>min3</th>\n",
              "      <th>...</th>\n",
              "      <th>dec12</th>\n",
              "      <th>a13</th>\n",
              "      <th>sd13</th>\n",
              "      <th>max13</th>\n",
              "      <th>min13</th>\n",
              "      <th>incr13</th>\n",
              "      <th>dec13</th>\n",
              "      <th>a14</th>\n",
              "      <th>sd14</th>\n",
              "      <th>max14</th>\n",
              "      <th>min14</th>\n",
              "      <th>incr14</th>\n",
              "      <th>dec14</th>\n",
              "      <th>a15</th>\n",
              "      <th>sd15</th>\n",
              "      <th>max15</th>\n",
              "      <th>min15</th>\n",
              "      <th>incr15</th>\n",
              "      <th>dec15</th>\n",
              "      <th>a16</th>\n",
              "      <th>max16</th>\n",
              "      <th>min16</th>\n",
              "      <th>a17</th>\n",
              "      <th>sd17</th>\n",
              "      <th>max17</th>\n",
              "      <th>min17</th>\n",
              "      <th>incr17</th>\n",
              "      <th>dec17</th>\n",
              "      <th>a20</th>\n",
              "      <th>sd20</th>\n",
              "      <th>max20</th>\n",
              "      <th>min20</th>\n",
              "      <th>incr20</th>\n",
              "      <th>dec20</th>\n",
              "      <th>a21</th>\n",
              "      <th>sd21</th>\n",
              "      <th>max21</th>\n",
              "      <th>min21</th>\n",
              "      <th>incr21</th>\n",
              "      <th>dec21</th>\n",
              "    </tr>\n",
              "  </thead>\n",
              "  <tbody>\n",
              "    <tr>\n",
              "      <th>63</th>\n",
              "      <td>1</td>\n",
              "      <td>64</td>\n",
              "      <td>0.0017</td>\n",
              "      <td>0.0002</td>\n",
              "      <td>518.67</td>\n",
              "      <td>642.23</td>\n",
              "      <td>1584.51</td>\n",
              "      <td>1400.11</td>\n",
              "      <td>14.62</td>\n",
              "      <td>21.61</td>\n",
              "      <td>553.88</td>\n",
              "      <td>2388.10</td>\n",
              "      <td>9043.67</td>\n",
              "      <td>1.3</td>\n",
              "      <td>47.45</td>\n",
              "      <td>521.82</td>\n",
              "      <td>2388.04</td>\n",
              "      <td>8128.15</td>\n",
              "      <td>8.4066</td>\n",
              "      <td>0.03</td>\n",
              "      <td>391</td>\n",
              "      <td>38.93</td>\n",
              "      <td>23.3840</td>\n",
              "      <td>192</td>\n",
              "      <td>128</td>\n",
              "      <td>0</td>\n",
              "      <td>0</td>\n",
              "      <td>518.67</td>\n",
              "      <td>518.67</td>\n",
              "      <td>518.67</td>\n",
              "      <td>642.270</td>\n",
              "      <td>0.206128</td>\n",
              "      <td>642.60</td>\n",
              "      <td>641.90</td>\n",
              "      <td>0.370</td>\n",
              "      <td>0.330</td>\n",
              "      <td>1586.667</td>\n",
              "      <td>4.864088</td>\n",
              "      <td>1596.72</td>\n",
              "      <td>1581.59</td>\n",
              "      <td>...</td>\n",
              "      <td>0.476</td>\n",
              "      <td>2388.047</td>\n",
              "      <td>0.031640</td>\n",
              "      <td>2388.10</td>\n",
              "      <td>2388.01</td>\n",
              "      <td>0.037</td>\n",
              "      <td>0.053</td>\n",
              "      <td>8132.158</td>\n",
              "      <td>2.481817</td>\n",
              "      <td>8135.48</td>\n",
              "      <td>8128.15</td>\n",
              "      <td>4.008</td>\n",
              "      <td>3.322</td>\n",
              "      <td>8.41787</td>\n",
              "      <td>0.018413</td>\n",
              "      <td>8.4476</td>\n",
              "      <td>8.3878</td>\n",
              "      <td>0.03007</td>\n",
              "      <td>0.02973</td>\n",
              "      <td>0.03</td>\n",
              "      <td>0.03</td>\n",
              "      <td>0.03</td>\n",
              "      <td>391.7</td>\n",
              "      <td>1.159502</td>\n",
              "      <td>394.0</td>\n",
              "      <td>390.0</td>\n",
              "      <td>1.7</td>\n",
              "      <td>2.3</td>\n",
              "      <td>38.908571</td>\n",
              "      <td>0.077121</td>\n",
              "      <td>39.03</td>\n",
              "      <td>38.77</td>\n",
              "      <td>0.138571</td>\n",
              "      <td>0.121429</td>\n",
              "      <td>23.340525</td>\n",
              "      <td>0.049386</td>\n",
              "      <td>23.3840</td>\n",
              "      <td>23.2707</td>\n",
              "      <td>0.069825</td>\n",
              "      <td>0.043475</td>\n",
              "    </tr>\n",
              "    <tr>\n",
              "      <th>64</th>\n",
              "      <td>1</td>\n",
              "      <td>65</td>\n",
              "      <td>-0.0000</td>\n",
              "      <td>0.0005</td>\n",
              "      <td>518.67</td>\n",
              "      <td>642.28</td>\n",
              "      <td>1584.72</td>\n",
              "      <td>1403.24</td>\n",
              "      <td>14.62</td>\n",
              "      <td>21.61</td>\n",
              "      <td>553.97</td>\n",
              "      <td>2388.03</td>\n",
              "      <td>9044.01</td>\n",
              "      <td>1.3</td>\n",
              "      <td>47.56</td>\n",
              "      <td>521.54</td>\n",
              "      <td>2388.13</td>\n",
              "      <td>8132.94</td>\n",
              "      <td>8.4406</td>\n",
              "      <td>0.03</td>\n",
              "      <td>392</td>\n",
              "      <td>38.90</td>\n",
              "      <td>23.3752</td>\n",
              "      <td>192</td>\n",
              "      <td>127</td>\n",
              "      <td>0</td>\n",
              "      <td>0</td>\n",
              "      <td>518.67</td>\n",
              "      <td>518.67</td>\n",
              "      <td>518.67</td>\n",
              "      <td>642.257</td>\n",
              "      <td>0.200336</td>\n",
              "      <td>642.60</td>\n",
              "      <td>641.90</td>\n",
              "      <td>0.357</td>\n",
              "      <td>0.343</td>\n",
              "      <td>1586.644</td>\n",
              "      <td>4.873644</td>\n",
              "      <td>1596.72</td>\n",
              "      <td>1581.59</td>\n",
              "      <td>...</td>\n",
              "      <td>0.533</td>\n",
              "      <td>2388.058</td>\n",
              "      <td>0.039384</td>\n",
              "      <td>2388.13</td>\n",
              "      <td>2388.01</td>\n",
              "      <td>0.048</td>\n",
              "      <td>0.072</td>\n",
              "      <td>8132.042</td>\n",
              "      <td>2.406943</td>\n",
              "      <td>8135.48</td>\n",
              "      <td>8128.15</td>\n",
              "      <td>3.892</td>\n",
              "      <td>3.438</td>\n",
              "      <td>8.42122</td>\n",
              "      <td>0.019263</td>\n",
              "      <td>8.4476</td>\n",
              "      <td>8.3878</td>\n",
              "      <td>0.03342</td>\n",
              "      <td>0.02638</td>\n",
              "      <td>0.03</td>\n",
              "      <td>0.03</td>\n",
              "      <td>0.03</td>\n",
              "      <td>391.7</td>\n",
              "      <td>1.159502</td>\n",
              "      <td>394.0</td>\n",
              "      <td>390.0</td>\n",
              "      <td>1.7</td>\n",
              "      <td>2.3</td>\n",
              "      <td>38.907500</td>\n",
              "      <td>0.071464</td>\n",
              "      <td>39.03</td>\n",
              "      <td>38.77</td>\n",
              "      <td>0.137500</td>\n",
              "      <td>0.122500</td>\n",
              "      <td>23.347460</td>\n",
              "      <td>0.045494</td>\n",
              "      <td>23.3840</td>\n",
              "      <td>23.2707</td>\n",
              "      <td>0.076760</td>\n",
              "      <td>0.036540</td>\n",
              "    </tr>\n",
              "    <tr>\n",
              "      <th>65</th>\n",
              "      <td>1</td>\n",
              "      <td>66</td>\n",
              "      <td>-0.0007</td>\n",
              "      <td>-0.0004</td>\n",
              "      <td>518.67</td>\n",
              "      <td>642.50</td>\n",
              "      <td>1588.50</td>\n",
              "      <td>1399.52</td>\n",
              "      <td>14.62</td>\n",
              "      <td>21.61</td>\n",
              "      <td>554.00</td>\n",
              "      <td>2388.06</td>\n",
              "      <td>9059.45</td>\n",
              "      <td>1.3</td>\n",
              "      <td>47.14</td>\n",
              "      <td>521.76</td>\n",
              "      <td>2388.05</td>\n",
              "      <td>8128.32</td>\n",
              "      <td>8.3911</td>\n",
              "      <td>0.03</td>\n",
              "      <td>391</td>\n",
              "      <td>38.95</td>\n",
              "      <td>23.3152</td>\n",
              "      <td>192</td>\n",
              "      <td>126</td>\n",
              "      <td>0</td>\n",
              "      <td>0</td>\n",
              "      <td>518.67</td>\n",
              "      <td>518.67</td>\n",
              "      <td>518.67</td>\n",
              "      <td>642.258</td>\n",
              "      <td>0.201649</td>\n",
              "      <td>642.60</td>\n",
              "      <td>641.90</td>\n",
              "      <td>0.358</td>\n",
              "      <td>0.342</td>\n",
              "      <td>1586.861</td>\n",
              "      <td>4.906310</td>\n",
              "      <td>1596.72</td>\n",
              "      <td>1581.59</td>\n",
              "      <td>...</td>\n",
              "      <td>0.605</td>\n",
              "      <td>2388.059</td>\n",
              "      <td>0.039001</td>\n",
              "      <td>2388.13</td>\n",
              "      <td>2388.01</td>\n",
              "      <td>0.049</td>\n",
              "      <td>0.071</td>\n",
              "      <td>8131.334</td>\n",
              "      <td>2.350055</td>\n",
              "      <td>8135.48</td>\n",
              "      <td>8128.15</td>\n",
              "      <td>3.184</td>\n",
              "      <td>4.146</td>\n",
              "      <td>8.42011</td>\n",
              "      <td>0.020744</td>\n",
              "      <td>8.4476</td>\n",
              "      <td>8.3878</td>\n",
              "      <td>0.03231</td>\n",
              "      <td>0.02749</td>\n",
              "      <td>0.03</td>\n",
              "      <td>0.03</td>\n",
              "      <td>0.03</td>\n",
              "      <td>391.7</td>\n",
              "      <td>1.159502</td>\n",
              "      <td>394.0</td>\n",
              "      <td>390.0</td>\n",
              "      <td>1.7</td>\n",
              "      <td>2.3</td>\n",
              "      <td>38.912222</td>\n",
              "      <td>0.068333</td>\n",
              "      <td>39.03</td>\n",
              "      <td>38.77</td>\n",
              "      <td>0.142222</td>\n",
              "      <td>0.117778</td>\n",
              "      <td>23.342083</td>\n",
              "      <td>0.042769</td>\n",
              "      <td>23.3840</td>\n",
              "      <td>23.2707</td>\n",
              "      <td>0.071383</td>\n",
              "      <td>0.041917</td>\n",
              "    </tr>\n",
              "    <tr>\n",
              "      <th>66</th>\n",
              "      <td>1</td>\n",
              "      <td>67</td>\n",
              "      <td>0.0016</td>\n",
              "      <td>-0.0004</td>\n",
              "      <td>518.67</td>\n",
              "      <td>642.33</td>\n",
              "      <td>1590.22</td>\n",
              "      <td>1403.02</td>\n",
              "      <td>14.62</td>\n",
              "      <td>21.61</td>\n",
              "      <td>554.31</td>\n",
              "      <td>2388.10</td>\n",
              "      <td>9050.24</td>\n",
              "      <td>1.3</td>\n",
              "      <td>47.39</td>\n",
              "      <td>522.64</td>\n",
              "      <td>2388.08</td>\n",
              "      <td>8134.07</td>\n",
              "      <td>8.3925</td>\n",
              "      <td>0.03</td>\n",
              "      <td>393</td>\n",
              "      <td>38.97</td>\n",
              "      <td>23.2910</td>\n",
              "      <td>192</td>\n",
              "      <td>125</td>\n",
              "      <td>0</td>\n",
              "      <td>0</td>\n",
              "      <td>518.67</td>\n",
              "      <td>518.67</td>\n",
              "      <td>518.67</td>\n",
              "      <td>642.278</td>\n",
              "      <td>0.197417</td>\n",
              "      <td>642.60</td>\n",
              "      <td>641.90</td>\n",
              "      <td>0.378</td>\n",
              "      <td>0.322</td>\n",
              "      <td>1587.516</td>\n",
              "      <td>4.870056</td>\n",
              "      <td>1596.72</td>\n",
              "      <td>1581.59</td>\n",
              "      <td>...</td>\n",
              "      <td>0.653</td>\n",
              "      <td>2388.059</td>\n",
              "      <td>0.039001</td>\n",
              "      <td>2388.13</td>\n",
              "      <td>2388.01</td>\n",
              "      <td>0.049</td>\n",
              "      <td>0.071</td>\n",
              "      <td>8131.193</td>\n",
              "      <td>2.102972</td>\n",
              "      <td>8134.07</td>\n",
              "      <td>8128.15</td>\n",
              "      <td>3.043</td>\n",
              "      <td>2.877</td>\n",
              "      <td>8.41673</td>\n",
              "      <td>0.022317</td>\n",
              "      <td>8.4476</td>\n",
              "      <td>8.3878</td>\n",
              "      <td>0.02893</td>\n",
              "      <td>0.03087</td>\n",
              "      <td>0.03</td>\n",
              "      <td>0.03</td>\n",
              "      <td>0.03</td>\n",
              "      <td>391.8</td>\n",
              "      <td>1.229273</td>\n",
              "      <td>394.0</td>\n",
              "      <td>390.0</td>\n",
              "      <td>1.8</td>\n",
              "      <td>2.2</td>\n",
              "      <td>38.918000</td>\n",
              "      <td>0.066966</td>\n",
              "      <td>39.03</td>\n",
              "      <td>38.77</td>\n",
              "      <td>0.148000</td>\n",
              "      <td>0.112000</td>\n",
              "      <td>23.334786</td>\n",
              "      <td>0.043556</td>\n",
              "      <td>23.3840</td>\n",
              "      <td>23.2707</td>\n",
              "      <td>0.064086</td>\n",
              "      <td>0.049214</td>\n",
              "    </tr>\n",
              "    <tr>\n",
              "      <th>67</th>\n",
              "      <td>1</td>\n",
              "      <td>68</td>\n",
              "      <td>-0.0018</td>\n",
              "      <td>0.0000</td>\n",
              "      <td>518.67</td>\n",
              "      <td>642.51</td>\n",
              "      <td>1582.06</td>\n",
              "      <td>1404.42</td>\n",
              "      <td>14.62</td>\n",
              "      <td>21.61</td>\n",
              "      <td>554.04</td>\n",
              "      <td>2388.10</td>\n",
              "      <td>9051.78</td>\n",
              "      <td>1.3</td>\n",
              "      <td>47.36</td>\n",
              "      <td>521.72</td>\n",
              "      <td>2388.07</td>\n",
              "      <td>8132.39</td>\n",
              "      <td>8.4242</td>\n",
              "      <td>0.03</td>\n",
              "      <td>392</td>\n",
              "      <td>38.95</td>\n",
              "      <td>23.3174</td>\n",
              "      <td>192</td>\n",
              "      <td>124</td>\n",
              "      <td>0</td>\n",
              "      <td>0</td>\n",
              "      <td>518.67</td>\n",
              "      <td>518.67</td>\n",
              "      <td>518.67</td>\n",
              "      <td>642.339</td>\n",
              "      <td>0.157935</td>\n",
              "      <td>642.60</td>\n",
              "      <td>642.10</td>\n",
              "      <td>0.239</td>\n",
              "      <td>0.261</td>\n",
              "      <td>1586.676</td>\n",
              "      <td>5.027721</td>\n",
              "      <td>1596.72</td>\n",
              "      <td>1581.59</td>\n",
              "      <td>...</td>\n",
              "      <td>0.702</td>\n",
              "      <td>2388.062</td>\n",
              "      <td>0.038528</td>\n",
              "      <td>2388.13</td>\n",
              "      <td>2388.01</td>\n",
              "      <td>0.052</td>\n",
              "      <td>0.068</td>\n",
              "      <td>8131.224</td>\n",
              "      <td>2.119718</td>\n",
              "      <td>8134.07</td>\n",
              "      <td>8128.15</td>\n",
              "      <td>3.074</td>\n",
              "      <td>2.846</td>\n",
              "      <td>8.41596</td>\n",
              "      <td>0.021864</td>\n",
              "      <td>8.4476</td>\n",
              "      <td>8.3878</td>\n",
              "      <td>0.02816</td>\n",
              "      <td>0.03164</td>\n",
              "      <td>0.03</td>\n",
              "      <td>0.03</td>\n",
              "      <td>0.03</td>\n",
              "      <td>392.0</td>\n",
              "      <td>1.054093</td>\n",
              "      <td>394.0</td>\n",
              "      <td>391.0</td>\n",
              "      <td>1.0</td>\n",
              "      <td>2.0</td>\n",
              "      <td>38.920000</td>\n",
              "      <td>0.067659</td>\n",
              "      <td>39.03</td>\n",
              "      <td>38.77</td>\n",
              "      <td>0.150000</td>\n",
              "      <td>0.110000</td>\n",
              "      <td>23.332612</td>\n",
              "      <td>0.040791</td>\n",
              "      <td>23.3840</td>\n",
              "      <td>23.2707</td>\n",
              "      <td>0.061912</td>\n",
              "      <td>0.051388</td>\n",
              "    </tr>\n",
              "    <tr>\n",
              "      <th>...</th>\n",
              "      <td>...</td>\n",
              "      <td>...</td>\n",
              "      <td>...</td>\n",
              "      <td>...</td>\n",
              "      <td>...</td>\n",
              "      <td>...</td>\n",
              "      <td>...</td>\n",
              "      <td>...</td>\n",
              "      <td>...</td>\n",
              "      <td>...</td>\n",
              "      <td>...</td>\n",
              "      <td>...</td>\n",
              "      <td>...</td>\n",
              "      <td>...</td>\n",
              "      <td>...</td>\n",
              "      <td>...</td>\n",
              "      <td>...</td>\n",
              "      <td>...</td>\n",
              "      <td>...</td>\n",
              "      <td>...</td>\n",
              "      <td>...</td>\n",
              "      <td>...</td>\n",
              "      <td>...</td>\n",
              "      <td>...</td>\n",
              "      <td>...</td>\n",
              "      <td>...</td>\n",
              "      <td>...</td>\n",
              "      <td>...</td>\n",
              "      <td>...</td>\n",
              "      <td>...</td>\n",
              "      <td>...</td>\n",
              "      <td>...</td>\n",
              "      <td>...</td>\n",
              "      <td>...</td>\n",
              "      <td>...</td>\n",
              "      <td>...</td>\n",
              "      <td>...</td>\n",
              "      <td>...</td>\n",
              "      <td>...</td>\n",
              "      <td>...</td>\n",
              "      <td>...</td>\n",
              "      <td>...</td>\n",
              "      <td>...</td>\n",
              "      <td>...</td>\n",
              "      <td>...</td>\n",
              "      <td>...</td>\n",
              "      <td>...</td>\n",
              "      <td>...</td>\n",
              "      <td>...</td>\n",
              "      <td>...</td>\n",
              "      <td>...</td>\n",
              "      <td>...</td>\n",
              "      <td>...</td>\n",
              "      <td>...</td>\n",
              "      <td>...</td>\n",
              "      <td>...</td>\n",
              "      <td>...</td>\n",
              "      <td>...</td>\n",
              "      <td>...</td>\n",
              "      <td>...</td>\n",
              "      <td>...</td>\n",
              "      <td>...</td>\n",
              "      <td>...</td>\n",
              "      <td>...</td>\n",
              "      <td>...</td>\n",
              "      <td>...</td>\n",
              "      <td>...</td>\n",
              "      <td>...</td>\n",
              "      <td>...</td>\n",
              "      <td>...</td>\n",
              "      <td>...</td>\n",
              "      <td>...</td>\n",
              "      <td>...</td>\n",
              "      <td>...</td>\n",
              "      <td>...</td>\n",
              "      <td>...</td>\n",
              "      <td>...</td>\n",
              "      <td>...</td>\n",
              "      <td>...</td>\n",
              "      <td>...</td>\n",
              "      <td>...</td>\n",
              "    </tr>\n",
              "    <tr>\n",
              "      <th>20626</th>\n",
              "      <td>100</td>\n",
              "      <td>196</td>\n",
              "      <td>-0.0004</td>\n",
              "      <td>-0.0003</td>\n",
              "      <td>518.67</td>\n",
              "      <td>643.49</td>\n",
              "      <td>1597.98</td>\n",
              "      <td>1428.63</td>\n",
              "      <td>14.62</td>\n",
              "      <td>21.61</td>\n",
              "      <td>551.43</td>\n",
              "      <td>2388.19</td>\n",
              "      <td>9065.52</td>\n",
              "      <td>1.3</td>\n",
              "      <td>48.07</td>\n",
              "      <td>519.49</td>\n",
              "      <td>2388.26</td>\n",
              "      <td>8137.60</td>\n",
              "      <td>8.4956</td>\n",
              "      <td>0.03</td>\n",
              "      <td>397</td>\n",
              "      <td>38.49</td>\n",
              "      <td>22.9735</td>\n",
              "      <td>200</td>\n",
              "      <td>4</td>\n",
              "      <td>2</td>\n",
              "      <td>1</td>\n",
              "      <td>518.67</td>\n",
              "      <td>518.67</td>\n",
              "      <td>518.67</td>\n",
              "      <td>643.456</td>\n",
              "      <td>0.244004</td>\n",
              "      <td>643.72</td>\n",
              "      <td>643.09</td>\n",
              "      <td>0.366</td>\n",
              "      <td>0.264</td>\n",
              "      <td>1599.625</td>\n",
              "      <td>4.406627</td>\n",
              "      <td>1610.87</td>\n",
              "      <td>1594.45</td>\n",
              "      <td>...</td>\n",
              "      <td>0.750</td>\n",
              "      <td>2388.237</td>\n",
              "      <td>0.031640</td>\n",
              "      <td>2388.28</td>\n",
              "      <td>2388.19</td>\n",
              "      <td>0.047</td>\n",
              "      <td>0.043</td>\n",
              "      <td>8141.170</td>\n",
              "      <td>1.966554</td>\n",
              "      <td>8143.56</td>\n",
              "      <td>8137.60</td>\n",
              "      <td>3.570</td>\n",
              "      <td>2.390</td>\n",
              "      <td>8.51031</td>\n",
              "      <td>0.023486</td>\n",
              "      <td>8.5519</td>\n",
              "      <td>8.4814</td>\n",
              "      <td>0.02891</td>\n",
              "      <td>0.04159</td>\n",
              "      <td>0.03</td>\n",
              "      <td>0.03</td>\n",
              "      <td>0.03</td>\n",
              "      <td>396.0</td>\n",
              "      <td>1.414214</td>\n",
              "      <td>398.0</td>\n",
              "      <td>394.0</td>\n",
              "      <td>2.0</td>\n",
              "      <td>2.0</td>\n",
              "      <td>38.453000</td>\n",
              "      <td>0.154923</td>\n",
              "      <td>38.67</td>\n",
              "      <td>38.14</td>\n",
              "      <td>0.313000</td>\n",
              "      <td>0.217000</td>\n",
              "      <td>23.092540</td>\n",
              "      <td>0.077684</td>\n",
              "      <td>23.2308</td>\n",
              "      <td>22.9735</td>\n",
              "      <td>0.119040</td>\n",
              "      <td>0.138260</td>\n",
              "    </tr>\n",
              "    <tr>\n",
              "      <th>20627</th>\n",
              "      <td>100</td>\n",
              "      <td>197</td>\n",
              "      <td>-0.0016</td>\n",
              "      <td>-0.0005</td>\n",
              "      <td>518.67</td>\n",
              "      <td>643.54</td>\n",
              "      <td>1604.50</td>\n",
              "      <td>1433.58</td>\n",
              "      <td>14.62</td>\n",
              "      <td>21.61</td>\n",
              "      <td>550.86</td>\n",
              "      <td>2388.23</td>\n",
              "      <td>9065.11</td>\n",
              "      <td>1.3</td>\n",
              "      <td>48.04</td>\n",
              "      <td>519.68</td>\n",
              "      <td>2388.22</td>\n",
              "      <td>8136.50</td>\n",
              "      <td>8.5139</td>\n",
              "      <td>0.03</td>\n",
              "      <td>395</td>\n",
              "      <td>38.30</td>\n",
              "      <td>23.1594</td>\n",
              "      <td>200</td>\n",
              "      <td>3</td>\n",
              "      <td>2</td>\n",
              "      <td>1</td>\n",
              "      <td>518.67</td>\n",
              "      <td>518.67</td>\n",
              "      <td>518.67</td>\n",
              "      <td>643.447</td>\n",
              "      <td>0.238470</td>\n",
              "      <td>643.72</td>\n",
              "      <td>643.09</td>\n",
              "      <td>0.357</td>\n",
              "      <td>0.273</td>\n",
              "      <td>1600.379</td>\n",
              "      <td>4.542925</td>\n",
              "      <td>1610.87</td>\n",
              "      <td>1594.45</td>\n",
              "      <td>...</td>\n",
              "      <td>0.797</td>\n",
              "      <td>2388.237</td>\n",
              "      <td>0.031640</td>\n",
              "      <td>2388.28</td>\n",
              "      <td>2388.19</td>\n",
              "      <td>0.047</td>\n",
              "      <td>0.043</td>\n",
              "      <td>8140.771</td>\n",
              "      <td>2.462169</td>\n",
              "      <td>8143.56</td>\n",
              "      <td>8136.50</td>\n",
              "      <td>4.271</td>\n",
              "      <td>2.789</td>\n",
              "      <td>8.51083</td>\n",
              "      <td>0.023504</td>\n",
              "      <td>8.5519</td>\n",
              "      <td>8.4814</td>\n",
              "      <td>0.02943</td>\n",
              "      <td>0.04107</td>\n",
              "      <td>0.03</td>\n",
              "      <td>0.03</td>\n",
              "      <td>0.03</td>\n",
              "      <td>395.9</td>\n",
              "      <td>1.449138</td>\n",
              "      <td>398.0</td>\n",
              "      <td>394.0</td>\n",
              "      <td>1.9</td>\n",
              "      <td>2.1</td>\n",
              "      <td>38.416000</td>\n",
              "      <td>0.140886</td>\n",
              "      <td>38.65</td>\n",
              "      <td>38.14</td>\n",
              "      <td>0.276000</td>\n",
              "      <td>0.234000</td>\n",
              "      <td>23.085400</td>\n",
              "      <td>0.065961</td>\n",
              "      <td>23.1923</td>\n",
              "      <td>22.9735</td>\n",
              "      <td>0.111900</td>\n",
              "      <td>0.106900</td>\n",
              "    </tr>\n",
              "    <tr>\n",
              "      <th>20628</th>\n",
              "      <td>100</td>\n",
              "      <td>198</td>\n",
              "      <td>0.0004</td>\n",
              "      <td>0.0000</td>\n",
              "      <td>518.67</td>\n",
              "      <td>643.42</td>\n",
              "      <td>1602.46</td>\n",
              "      <td>1428.18</td>\n",
              "      <td>14.62</td>\n",
              "      <td>21.61</td>\n",
              "      <td>550.94</td>\n",
              "      <td>2388.24</td>\n",
              "      <td>9065.90</td>\n",
              "      <td>1.3</td>\n",
              "      <td>48.09</td>\n",
              "      <td>520.01</td>\n",
              "      <td>2388.24</td>\n",
              "      <td>8141.05</td>\n",
              "      <td>8.5646</td>\n",
              "      <td>0.03</td>\n",
              "      <td>398</td>\n",
              "      <td>38.44</td>\n",
              "      <td>22.9333</td>\n",
              "      <td>200</td>\n",
              "      <td>2</td>\n",
              "      <td>2</td>\n",
              "      <td>1</td>\n",
              "      <td>518.67</td>\n",
              "      <td>518.67</td>\n",
              "      <td>518.67</td>\n",
              "      <td>643.470</td>\n",
              "      <td>0.221410</td>\n",
              "      <td>643.72</td>\n",
              "      <td>643.09</td>\n",
              "      <td>0.380</td>\n",
              "      <td>0.250</td>\n",
              "      <td>1600.848</td>\n",
              "      <td>4.485378</td>\n",
              "      <td>1610.87</td>\n",
              "      <td>1594.45</td>\n",
              "      <td>...</td>\n",
              "      <td>0.794</td>\n",
              "      <td>2388.240</td>\n",
              "      <td>0.030185</td>\n",
              "      <td>2388.28</td>\n",
              "      <td>2388.19</td>\n",
              "      <td>0.050</td>\n",
              "      <td>0.040</td>\n",
              "      <td>8140.882</td>\n",
              "      <td>2.445507</td>\n",
              "      <td>8143.56</td>\n",
              "      <td>8136.50</td>\n",
              "      <td>4.382</td>\n",
              "      <td>2.678</td>\n",
              "      <td>8.51915</td>\n",
              "      <td>0.026468</td>\n",
              "      <td>8.5646</td>\n",
              "      <td>8.4870</td>\n",
              "      <td>0.03215</td>\n",
              "      <td>0.04545</td>\n",
              "      <td>0.03</td>\n",
              "      <td>0.03</td>\n",
              "      <td>0.03</td>\n",
              "      <td>396.2</td>\n",
              "      <td>1.549193</td>\n",
              "      <td>398.0</td>\n",
              "      <td>394.0</td>\n",
              "      <td>2.2</td>\n",
              "      <td>1.8</td>\n",
              "      <td>38.424000</td>\n",
              "      <td>0.139619</td>\n",
              "      <td>38.65</td>\n",
              "      <td>38.14</td>\n",
              "      <td>0.284000</td>\n",
              "      <td>0.226000</td>\n",
              "      <td>23.073210</td>\n",
              "      <td>0.081577</td>\n",
              "      <td>23.1923</td>\n",
              "      <td>22.9333</td>\n",
              "      <td>0.139910</td>\n",
              "      <td>0.119090</td>\n",
              "    </tr>\n",
              "    <tr>\n",
              "      <th>20629</th>\n",
              "      <td>100</td>\n",
              "      <td>199</td>\n",
              "      <td>-0.0011</td>\n",
              "      <td>0.0003</td>\n",
              "      <td>518.67</td>\n",
              "      <td>643.23</td>\n",
              "      <td>1605.26</td>\n",
              "      <td>1426.53</td>\n",
              "      <td>14.62</td>\n",
              "      <td>21.61</td>\n",
              "      <td>550.68</td>\n",
              "      <td>2388.25</td>\n",
              "      <td>9073.72</td>\n",
              "      <td>1.3</td>\n",
              "      <td>48.39</td>\n",
              "      <td>519.67</td>\n",
              "      <td>2388.23</td>\n",
              "      <td>8139.29</td>\n",
              "      <td>8.5389</td>\n",
              "      <td>0.03</td>\n",
              "      <td>395</td>\n",
              "      <td>38.29</td>\n",
              "      <td>23.0640</td>\n",
              "      <td>200</td>\n",
              "      <td>1</td>\n",
              "      <td>2</td>\n",
              "      <td>1</td>\n",
              "      <td>518.67</td>\n",
              "      <td>518.67</td>\n",
              "      <td>518.67</td>\n",
              "      <td>643.424</td>\n",
              "      <td>0.218388</td>\n",
              "      <td>643.72</td>\n",
              "      <td>643.09</td>\n",
              "      <td>0.334</td>\n",
              "      <td>0.296</td>\n",
              "      <td>1601.389</td>\n",
              "      <td>4.673929</td>\n",
              "      <td>1610.87</td>\n",
              "      <td>1594.45</td>\n",
              "      <td>...</td>\n",
              "      <td>0.777</td>\n",
              "      <td>2388.239</td>\n",
              "      <td>0.030350</td>\n",
              "      <td>2388.28</td>\n",
              "      <td>2388.19</td>\n",
              "      <td>0.049</td>\n",
              "      <td>0.041</td>\n",
              "      <td>8140.833</td>\n",
              "      <td>2.474775</td>\n",
              "      <td>8143.56</td>\n",
              "      <td>8136.50</td>\n",
              "      <td>4.333</td>\n",
              "      <td>2.727</td>\n",
              "      <td>8.52434</td>\n",
              "      <td>0.024477</td>\n",
              "      <td>8.5646</td>\n",
              "      <td>8.4892</td>\n",
              "      <td>0.03514</td>\n",
              "      <td>0.04026</td>\n",
              "      <td>0.03</td>\n",
              "      <td>0.03</td>\n",
              "      <td>0.03</td>\n",
              "      <td>396.0</td>\n",
              "      <td>1.563472</td>\n",
              "      <td>398.0</td>\n",
              "      <td>394.0</td>\n",
              "      <td>2.0</td>\n",
              "      <td>2.0</td>\n",
              "      <td>38.388000</td>\n",
              "      <td>0.119889</td>\n",
              "      <td>38.56</td>\n",
              "      <td>38.14</td>\n",
              "      <td>0.248000</td>\n",
              "      <td>0.172000</td>\n",
              "      <td>23.073700</td>\n",
              "      <td>0.081498</td>\n",
              "      <td>23.1923</td>\n",
              "      <td>22.9333</td>\n",
              "      <td>0.140400</td>\n",
              "      <td>0.118600</td>\n",
              "    </tr>\n",
              "    <tr>\n",
              "      <th>20630</th>\n",
              "      <td>100</td>\n",
              "      <td>200</td>\n",
              "      <td>-0.0032</td>\n",
              "      <td>-0.0005</td>\n",
              "      <td>518.67</td>\n",
              "      <td>643.85</td>\n",
              "      <td>1600.38</td>\n",
              "      <td>1432.14</td>\n",
              "      <td>14.62</td>\n",
              "      <td>21.61</td>\n",
              "      <td>550.79</td>\n",
              "      <td>2388.26</td>\n",
              "      <td>9061.48</td>\n",
              "      <td>1.3</td>\n",
              "      <td>48.20</td>\n",
              "      <td>519.30</td>\n",
              "      <td>2388.26</td>\n",
              "      <td>8137.33</td>\n",
              "      <td>8.5036</td>\n",
              "      <td>0.03</td>\n",
              "      <td>396</td>\n",
              "      <td>38.37</td>\n",
              "      <td>23.0522</td>\n",
              "      <td>200</td>\n",
              "      <td>0</td>\n",
              "      <td>2</td>\n",
              "      <td>1</td>\n",
              "      <td>518.67</td>\n",
              "      <td>518.67</td>\n",
              "      <td>518.67</td>\n",
              "      <td>643.497</td>\n",
              "      <td>0.227305</td>\n",
              "      <td>643.85</td>\n",
              "      <td>643.09</td>\n",
              "      <td>0.407</td>\n",
              "      <td>0.353</td>\n",
              "      <td>1601.982</td>\n",
              "      <td>4.027163</td>\n",
              "      <td>1610.87</td>\n",
              "      <td>1597.29</td>\n",
              "      <td>...</td>\n",
              "      <td>0.799</td>\n",
              "      <td>2388.239</td>\n",
              "      <td>0.030350</td>\n",
              "      <td>2388.28</td>\n",
              "      <td>2388.19</td>\n",
              "      <td>0.049</td>\n",
              "      <td>0.041</td>\n",
              "      <td>8140.338</td>\n",
              "      <td>2.642548</td>\n",
              "      <td>8143.56</td>\n",
              "      <td>8136.50</td>\n",
              "      <td>3.838</td>\n",
              "      <td>3.222</td>\n",
              "      <td>8.52308</td>\n",
              "      <td>0.025254</td>\n",
              "      <td>8.5646</td>\n",
              "      <td>8.4892</td>\n",
              "      <td>0.03388</td>\n",
              "      <td>0.04152</td>\n",
              "      <td>0.03</td>\n",
              "      <td>0.03</td>\n",
              "      <td>0.03</td>\n",
              "      <td>396.1</td>\n",
              "      <td>1.523884</td>\n",
              "      <td>398.0</td>\n",
              "      <td>394.0</td>\n",
              "      <td>2.1</td>\n",
              "      <td>1.9</td>\n",
              "      <td>38.383000</td>\n",
              "      <td>0.119448</td>\n",
              "      <td>38.56</td>\n",
              "      <td>38.14</td>\n",
              "      <td>0.243000</td>\n",
              "      <td>0.177000</td>\n",
              "      <td>23.072890</td>\n",
              "      <td>0.081686</td>\n",
              "      <td>23.1923</td>\n",
              "      <td>22.9333</td>\n",
              "      <td>0.139590</td>\n",
              "      <td>0.119410</td>\n",
              "    </tr>\n",
              "  </tbody>\n",
              "</table>\n",
              "<p>14331 rows × 129 columns</p>\n",
              "</div>"
            ],
            "text/plain": [
              "        id  cycle  setting1  setting2  ...    max21    min21    incr21     dec21\n",
              "63       1     64    0.0017    0.0002  ...  23.3840  23.2707  0.069825  0.043475\n",
              "64       1     65   -0.0000    0.0005  ...  23.3840  23.2707  0.076760  0.036540\n",
              "65       1     66   -0.0007   -0.0004  ...  23.3840  23.2707  0.071383  0.041917\n",
              "66       1     67    0.0016   -0.0004  ...  23.3840  23.2707  0.064086  0.049214\n",
              "67       1     68   -0.0018    0.0000  ...  23.3840  23.2707  0.061912  0.051388\n",
              "...    ...    ...       ...       ...  ...      ...      ...       ...       ...\n",
              "20626  100    196   -0.0004   -0.0003  ...  23.2308  22.9735  0.119040  0.138260\n",
              "20627  100    197   -0.0016   -0.0005  ...  23.1923  22.9735  0.111900  0.106900\n",
              "20628  100    198    0.0004    0.0000  ...  23.1923  22.9333  0.139910  0.119090\n",
              "20629  100    199   -0.0011    0.0003  ...  23.1923  22.9333  0.140400  0.118600\n",
              "20630  100    200   -0.0032   -0.0005  ...  23.1923  22.9333  0.139590  0.119410\n",
              "\n",
              "[14331 rows x 129 columns]"
            ]
          },
          "metadata": {
            "tags": []
          },
          "execution_count": 37
        }
      ]
    },
    {
      "cell_type": "code",
      "metadata": {
        "id": "xKLHec3VhCOS",
        "outputId": "2aee5f5a-2bdb-4d15-a2e9-713d508359a7",
        "colab": {
          "base_uri": "https://localhost:8080/"
        }
      },
      "source": [
        "df2.info()"
      ],
      "execution_count": 38,
      "outputs": [
        {
          "output_type": "stream",
          "text": [
            "<class 'pandas.core.frame.DataFrame'>\n",
            "Int64Index: 14331 entries, 63 to 20630\n",
            "Columns: 156 entries, id to dec21\n",
            "dtypes: float64(148), int64(8)\n",
            "memory usage: 17.2 MB\n"
          ],
          "name": "stdout"
        }
      ]
    },
    {
      "cell_type": "markdown",
      "metadata": {
        "id": "0r2S5fW5z81c"
      },
      "source": [
        "### df_train"
      ]
    },
    {
      "cell_type": "code",
      "metadata": {
        "id": "dHTEccBVz_eJ"
      },
      "source": [
        "df_train.head()"
      ],
      "execution_count": null,
      "outputs": []
    },
    {
      "cell_type": "markdown",
      "metadata": {
        "id": "hvTzqHxq5Bxj"
      },
      "source": [
        "### df_test"
      ]
    },
    {
      "cell_type": "code",
      "metadata": {
        "id": "ZMsXVSLS5Dpc"
      },
      "source": [
        "df_test.head()"
      ],
      "execution_count": null,
      "outputs": []
    },
    {
      "cell_type": "markdown",
      "metadata": {
        "id": "n-tUAlMloJ5j"
      },
      "source": [
        "### X"
      ]
    },
    {
      "cell_type": "code",
      "metadata": {
        "id": "xt6WUJApoNp1"
      },
      "source": [
        "X.head(10)"
      ],
      "execution_count": null,
      "outputs": []
    },
    {
      "cell_type": "code",
      "metadata": {
        "id": "UCrSznaqoT5E"
      },
      "source": [
        "X.describe()"
      ],
      "execution_count": null,
      "outputs": []
    },
    {
      "cell_type": "code",
      "metadata": {
        "id": "K98hi5p8oWTI"
      },
      "source": [
        "X.info()"
      ],
      "execution_count": null,
      "outputs": []
    },
    {
      "cell_type": "code",
      "metadata": {
        "id": "bwgIJjwP46gC"
      },
      "source": [
        "X_test.head()"
      ],
      "execution_count": null,
      "outputs": []
    },
    {
      "cell_type": "markdown",
      "metadata": {
        "id": "pqz-5l5RoY09"
      },
      "source": [
        "### y"
      ]
    },
    {
      "cell_type": "code",
      "metadata": {
        "id": "CfmacBcSoeYU"
      },
      "source": [
        "y_reg, y_clf, y_mclf"
      ],
      "execution_count": null,
      "outputs": []
    },
    {
      "cell_type": "code",
      "metadata": {
        "id": "NEDucdl4526n"
      },
      "source": [
        "y_test_reg, y_test_clf, y_test_mclf"
      ],
      "execution_count": null,
      "outputs": []
    },
    {
      "cell_type": "code",
      "metadata": {
        "id": "G7V15az1hxxs"
      },
      "source": [
        "y_pred"
      ],
      "execution_count": null,
      "outputs": []
    },
    {
      "cell_type": "markdown",
      "metadata": {
        "id": "QGHp0ZJGhJNc"
      },
      "source": [
        "## Visuals"
      ]
    },
    {
      "cell_type": "code",
      "metadata": {
        "colab": {
          "base_uri": "https://localhost:8080/",
          "height": 377
        },
        "id": "wChw_EpJozu_",
        "outputId": "73814384-c44c-4e95-9544-ce7fce851bd0"
      },
      "source": [
        "train1_fail = df1.groupby('id').cycle.max()\n",
        "\n",
        "fig, axs = plt.subplots(2, figsize=(12,6))\n",
        "axs[0].hist(train1_fail)\n",
        "axs[1].boxplot(train1_fail, vert=False);"
      ],
      "execution_count": null,
      "outputs": [
        {
          "output_type": "display_data",
          "data": {
            "image/png": "[encoded data removed]",
            "text/plain": [
              "<Figure size 864x432 with 2 Axes>"
            ]
          },
          "metadata": {
            "tags": [],
            "needs_background": "light"
          }
        }
      ]
    },
    {
      "cell_type": "code",
      "metadata": {
        "colab": {
          "base_uri": "https://localhost:8080/",
          "height": 378
        },
        "id": "_PfxqVa8enMZ",
        "outputId": "99dec97f-6a3d-441b-fc34-49daaef161c5"
      },
      "source": [
        "fig, axs = plt.subplots(1,3, figsize=(12,6))\n",
        "for i in range(3):\n",
        "    axs[i].boxplot(df1.iloc[:,i+2])\n",
        "    axs[i].set_yticks([])\n",
        "    axs[i].set_xticks([])\n",
        "    axs[i].set_title(label=f'setting{i+1}')\n",
        "fig.savefig('data/boxplot_settings')"
      ],
      "execution_count": null,
      "outputs": [
        {
          "output_type": "display_data",
          "data": {
            "image/png": "[encoded data removed]",
            "text/plain": [
              "<Figure size 864x432 with 3 Axes>"
            ]
          },
          "metadata": {
            "tags": []
          }
        }
      ]
    },
    {
      "cell_type": "code",
      "metadata": {
        "colab": {
          "base_uri": "https://localhost:8080/",
          "height": 302
        },
        "id": "Mb_KkKzXesFc",
        "outputId": "13868519-aa99-469e-ff25-e9b72ca09f65"
      },
      "source": [
        "fig, axs = plt.subplots(1,21, figsize=(21,6))\n",
        "for i in range(21):\n",
        "    axs[i].boxplot(df1.iloc[:,i+5])\n",
        "    axs[i].set_yticks([])\n",
        "    axs[i].set_xticks([])\n",
        "    axs[i].set_title(label=f'{df1.columns[i+5]}')\n",
        "plt.savefig('data/boxplot_sensors')"
      ],
      "execution_count": null,
      "outputs": [
        {
          "output_type": "display_data",
          "data": {
            "image/png": "[encoded data removed]",
            "text/plain": [
              "<Figure size 1512x432 with 21 Axes>"
            ]
          },
          "metadata": {
            "tags": []
          }
        }
      ]
    },
    {
      "cell_type": "code",
      "metadata": {
        "colab": {
          "base_uri": "https://localhost:8080/",
          "height": 645
        },
        "id": "bnziA5oBeuRw",
        "outputId": "0a98602d-2bf2-42e8-9050-4a9ae4c79c57"
      },
      "source": [
        "scatter_matrix(df1.iloc[:,np.r_[6,7,8,11,12,13,15,16,17,18,19,21,24,25]], figsize=(18,12));"
      ],
      "execution_count": null,
      "outputs": [
        {
          "output_type": "display_data",
          "data": {
            "image/png": "[encoded data removed]",
            "text/plain": [
              "<Figure size 1296x864 with 196 Axes>"
            ]
          },
          "metadata": {
            "tags": [],
            "needs_background": "light"
          }
        }
      ]
    },
    {
      "cell_type": "code",
      "metadata": {
        "id": "Om1WZPy8NPrS"
      },
      "source": [
        "q25 = pd.DataFrame(data=np.arange(51), columns=['RUL'])\n",
        "q75 = pd.DataFrame(data=np.arange(51), columns=['RUL'])\n",
        "sensor = [f's{i}' for i in range(1,22) ]\n",
        "for s in sensor:\n",
        "        q25.insert(len(q25.columns), f'{s}', df1[df1['RUL']<=50][s].groupby(df1['RUL']).quantile(0.25))\n",
        "        q75.insert(len(q75.columns), f'{s}', df1[df1['RUL']<=50][s].groupby(df1['RUL']).quantile(0.75))\n",
        "q25.set_index('RUL')"
      ],
      "execution_count": null,
      "outputs": []
    },
    {
      "cell_type": "code",
      "metadata": {
        "id": "OTA8KDzHRke9"
      },
      "source": [
        "eng_id3 = df2[df2['id'] == 3]\n",
        "eng_id3.set_index('RUL')"
      ],
      "execution_count": null,
      "outputs": []
    },
    {
      "cell_type": "code",
      "metadata": {
        "id": "RQL2cyYJdAwE"
      },
      "source": [
        "eng_id3_50 = eng_id3[eng_id3['RUL'] <= eng_id3['RUL'].min() + 50]"
      ],
      "execution_count": null,
      "outputs": []
    },
    {
      "cell_type": "code",
      "metadata": {
        "id": "MesYK4sQdP6A"
      },
      "source": [
        "disp_cols = ['s2', 's3', 's4', 's7', 's8', 's9', 's11', 's12', 's13', 's14', 's15', 's17', 's20', 's21']\n",
        "cols1 = ['a2', 'a3', 'a4', 'a7', 'a8', 'a9', 'a11', 'a12', 'a13', 'a14', 'a15', 'a17', 'a20', 'a21']\n",
        "\n",
        "\n",
        "# plotting sensor data for engine ID 3 prior to a failure point\n",
        "eng_id3_50[disp_cols].plot(subplots=True, sharex=True, figsize=(20,20));\n",
        "\n"
      ],
      "execution_count": null,
      "outputs": []
    },
    {
      "cell_type": "code",
      "metadata": {
        "id": "O8jAeCVHbpW6"
      },
      "source": [
        "index = range(50,-1,-1)\n",
        "anti_index = range(51)"
      ],
      "execution_count": null,
      "outputs": []
    },
    {
      "cell_type": "code",
      "metadata": {
        "id": "QXe_NZXcdw43"
      },
      "source": [
        "fig, ax = plt.subplots()\n",
        "ax.plot(anti_index,eng_id3_50['a3'])\n",
        "ax.fill_between(index, q25.s3.values.ravel(), q75.s3.values.ravel(), color='0.8')"
      ],
      "execution_count": null,
      "outputs": []
    },
    {
      "cell_type": "code",
      "metadata": {
        "id": "uj__SsQcVW1t"
      },
      "source": [
        "fig, ax = plt.subplots(len(disp_cols), figsize=(15,10))\n",
        "for i, disp in enumerate(disp_cols):\n",
        "  ax[i].fill_between(index, q25[disp].values.ravel(), q75[disp].values.ravel())\n",
        "  # ax[i].plot(anti_index,eng_id3_50[disp], label=disp)\n",
        "  ax[i].set_yticks([])\n",
        "  ax[i].set_xticks([])\n",
        "plt.savefig('data/trends')"
      ],
      "execution_count": null,
      "outputs": []
    },
    {
      "cell_type": "code",
      "metadata": {
        "id": "GxeNCtwfgXg0"
      },
      "source": [
        "fig, ax = plt.subplots(len(disp_cols), figsize=(15,10))\n",
        "for i, disp in enumerate(disp_cols):\n",
        "  ax[i].fill_between(index, q25[disp].values.ravel(), q75[disp].values.ravel(), color='0.8')\n",
        "  ax[i].plot(anti_index,eng_id3_50[disp], label=disp)\n",
        "  ax[i].set_yticks([])\n",
        "  ax[i].set_xticks([])\n",
        "plt.savefig('data/compare_trends')"
      ],
      "execution_count": null,
      "outputs": []
    },
    {
      "cell_type": "markdown",
      "metadata": {
        "id": "w4Sw6RdufRhe"
      },
      "source": [
        "# Final cleaning of data"
      ]
    },
    {
      "cell_type": "markdown",
      "metadata": {
        "id": "siAHqz_Wcx7Q"
      },
      "source": [
        "## Additional considered modifications of the data"
      ]
    },
    {
      "cell_type": "markdown",
      "metadata": {
        "id": "Iy8RCgJwjE2n"
      },
      "source": [
        "`window_trending` adds columns to the dataframe, recording the average, standard deviation, increase and decrease over the previous rows for each sensor. "
      ]
    },
    {
      "cell_type": "code",
      "metadata": {
        "id": "GuOtdqtlLoUz"
      },
      "source": [
        "df2 = window_trending(df1)"
      ],
      "execution_count": 30,
      "outputs": []
    },
    {
      "cell_type": "markdown",
      "metadata": {
        "id": "WAO8912tjnyF"
      },
      "source": [
        "`window_avg_sd` is a simpler (earlier) version of `window_trending`, adding columns to the dataframe recording the average and standard deviation over the previous rows for each sensor. "
      ]
    },
    {
      "cell_type": "code",
      "metadata": {
        "id": "iRsdJb3mcw2U"
      },
      "source": [
        "# df3 = window_avg_sd(df1)"
      ],
      "execution_count": null,
      "outputs": []
    },
    {
      "cell_type": "markdown",
      "metadata": {
        "id": "UnNKlqLtt3dt"
      },
      "source": [
        "#### Trimming features\n",
        "Not all columns are valuable"
      ]
    },
    {
      "cell_type": "code",
      "metadata": {
        "id": "chQWVgIluODh"
      },
      "source": [
        "reduced_cols = []"
      ],
      "execution_count": null,
      "outputs": []
    },
    {
      "cell_type": "markdown",
      "metadata": {
        "id": "aa7ueTuzjrEQ"
      },
      "source": [
        "## Train/Test Split"
      ]
    },
    {
      "cell_type": "code",
      "metadata": {
        "id": "waWgPpmy5oJx"
      },
      "source": [
        "df_train, df_test = tts(df1)\n",
        "X, y_reg, y_clf, y_mclf = xy_split(df_train)\n",
        "X_test, y_test_reg, y_test_clf, y_test_mclf = xy_split(df_test)"
      ],
      "execution_count": 39,
      "outputs": []
    },
    {
      "cell_type": "markdown",
      "metadata": {
        "id": "OeIPVXXoONlR"
      },
      "source": [
        "# Build models"
      ]
    },
    {
      "cell_type": "markdown",
      "metadata": {
        "id": "O4Fnv2sy5clD"
      },
      "source": [
        "## Linear Regression"
      ]
    },
    {
      "cell_type": "code",
      "metadata": {
        "id": "bON9TwGyol8q",
        "outputId": "937b4a8e-100a-4e46-caa1-cf40bb9db0c8",
        "colab": {
          "base_uri": "https://localhost:8080/"
        }
      },
      "source": [
        "reg = LinearRegression()\n",
        "\n",
        "reg.fit(X, y_reg)\n",
        "reg.score(X, y_reg)"
      ],
      "execution_count": 40,
      "outputs": [
        {
          "output_type": "execute_result",
          "data": {
            "text/plain": [
              "0.6273379490241792"
            ]
          },
          "metadata": {
            "tags": []
          },
          "execution_count": 40
        }
      ]
    },
    {
      "cell_type": "code",
      "metadata": {
        "id": "3sI9soiqptIF",
        "outputId": "b767a624-c560-47ef-e5fa-2fe2bf76d854",
        "colab": {
          "base_uri": "https://localhost:8080/"
        }
      },
      "source": [
        "print(f'MSE: {mean_squared_error(y_reg, reg.predict(X))}')"
      ],
      "execution_count": 41,
      "outputs": [
        {
          "output_type": "stream",
          "text": [
            "MSE: 2162.7426398091334\n"
          ],
          "name": "stdout"
        }
      ]
    },
    {
      "cell_type": "code",
      "metadata": {
        "id": "WoeLqZVFr327",
        "outputId": "73d2ce8f-56dc-4536-f283-3ef2f626dcdf",
        "colab": {
          "base_uri": "https://localhost:8080/"
        }
      },
      "source": [
        "reg.score(X_test, y_test_reg)"
      ],
      "execution_count": 42,
      "outputs": [
        {
          "output_type": "execute_result",
          "data": {
            "text/plain": [
              "0.652887917127712"
            ]
          },
          "metadata": {
            "tags": []
          },
          "execution_count": 42
        }
      ]
    },
    {
      "cell_type": "markdown",
      "metadata": {
        "id": "EBepj724H6wc"
      },
      "source": [
        "## OLS with StatsModel"
      ]
    },
    {
      "cell_type": "code",
      "metadata": {
        "id": "_EuEmXgzH6Bg",
        "outputId": "96d0e586-bc85-4fde-8655-78118da353fa",
        "colab": {
          "base_uri": "https://localhost:8080/"
        }
      },
      "source": [
        "model = sm.OLS(y_reg, X)\n",
        "results = model.fit()\n",
        "print(results.summary())"
      ],
      "execution_count": 43,
      "outputs": [
        {
          "output_type": "stream",
          "text": [
            "                            OLS Regression Results                            \n",
            "==============================================================================\n",
            "Dep. Variable:                    RUL   R-squared:                       0.627\n",
            "Model:                            OLS   Adj. R-squared:                  0.626\n",
            "Method:                 Least Squares   F-statistic:                     386.7\n",
            "Date:                Fri, 16 Jul 2021   Prob (F-statistic):               0.00\n",
            "Time:                        01:36:42   Log-Likelihood:                -23059.\n",
            "No. Observations:                4385   AIC:                         4.616e+04\n",
            "Df Residuals:                    4365   BIC:                         4.628e+04\n",
            "Df Model:                          19                                         \n",
            "Covariance Type:            nonrobust                                         \n",
            "==============================================================================\n",
            "                 coef    std err          t      P>|t|      [0.025      0.975]\n",
            "------------------------------------------------------------------------------\n",
            "id             0.3978      0.025     15.723      0.000       0.348       0.447\n",
            "cycle         -0.3347      0.014    -24.479      0.000      -0.362      -0.308\n",
            "setting1      44.5460    327.928      0.136      0.892    -598.359     687.451\n",
            "setting2    2118.8360   2395.099      0.885      0.376   -2576.774    6814.446\n",
            "setting3       0.8499      1.058      0.803      0.422      -1.225       2.925\n",
            "s1             4.4081      5.489      0.803      0.422      -6.352      15.169\n",
            "s2            -4.7633      2.346     -2.031      0.042      -9.362      -0.165\n",
            "s3            -0.3186      0.172     -1.853      0.064      -0.656       0.019\n",
            "s4            -0.3779      0.167     -2.261      0.024      -0.706      -0.050\n",
            "s5             0.1243      0.155      0.803      0.422      -0.179       0.428\n",
            "s6           605.8415    469.901      1.289      0.197    -315.403    1527.086\n",
            "s7             6.5511      1.671      3.921      0.000       3.275       9.827\n",
            "s8           -31.5219     21.176     -1.489      0.137     -73.038       9.994\n",
            "s9             0.0319      0.134      0.238      0.812      -0.230       0.294\n",
            "s10            0.0110      0.014      0.803      0.422      -0.016       0.038\n",
            "s11          -28.4609      6.596     -4.315      0.000     -41.393     -15.529\n",
            "s12           10.3109      2.211      4.664      0.000       5.977      14.645\n",
            "s13            4.4738     20.948      0.214      0.831     -36.595      45.543\n",
            "s14           -0.3097      0.154     -2.015      0.044      -0.611      -0.008\n",
            "s15         -117.0396     34.080     -3.434      0.001    -183.854     -50.225\n",
            "s16            0.0003      0.000      0.803      0.422      -0.000       0.001\n",
            "s17           -1.6333      0.712     -2.294      0.022      -3.029      -0.237\n",
            "s18           20.2951     25.270      0.803      0.422     -29.247      69.838\n",
            "s19            0.8499      1.058      0.803      0.422      -1.225       2.925\n",
            "s20            4.9918      6.791      0.735      0.462      -8.322      18.306\n",
            "s21           35.7018     11.463      3.114      0.002      13.228      58.176\n",
            "==============================================================================\n",
            "Omnibus:                      439.265   Durbin-Watson:                   0.055\n",
            "Prob(Omnibus):                  0.000   Jarque-Bera (JB):              640.180\n",
            "Skew:                           0.769   Prob(JB):                    9.70e-140\n",
            "Kurtosis:                       4.068   Cond. No.                     1.16e+16\n",
            "==============================================================================\n",
            "\n",
            "Warnings:\n",
            "[1] Standard Errors assume that the covariance matrix of the errors is correctly specified.\n",
            "[2] The smallest eigenvalue is 5.63e-21. This might indicate that there are\n",
            "strong multicollinearity problems or that the design matrix is singular.\n"
          ],
          "name": "stdout"
        }
      ]
    },
    {
      "cell_type": "markdown",
      "metadata": {
        "id": "mViTKKD25fWe"
      },
      "source": [
        "## Logistics Regression"
      ]
    },
    {
      "cell_type": "code",
      "metadata": {
        "id": "ywzLGbAK51xc",
        "outputId": "904b54fe-9a47-4460-a8f9-057380bddfc5",
        "colab": {
          "base_uri": "https://localhost:8080/"
        }
      },
      "source": [
        "log = LogisticRegression(max_iter=10**6)\n",
        "\n",
        "log.fit(X, y_clf)\n",
        "y_pred = log.predict(X)\n",
        "log.score(X, y_clf)\n",
        "confusion_matrix(y_pred, y_clf)"
      ],
      "execution_count": 44,
      "outputs": [
        {
          "output_type": "execute_result",
          "data": {
            "text/plain": [
              "array([[4133,   38],\n",
              "       [  32,  182]])"
            ]
          },
          "metadata": {
            "tags": []
          },
          "execution_count": 44
        }
      ]
    },
    {
      "cell_type": "code",
      "metadata": {
        "id": "rSaKNGhOwgA-",
        "outputId": "c6c3c2fd-0389-4b9e-b27c-dfdee0f03f5a",
        "colab": {
          "base_uri": "https://localhost:8080/",
          "height": 282
        }
      },
      "source": [
        "disp = ConfusionMatrixDisplay(confusion_matrix(y_pred, y_clf), display_labels=log.classes_)\n",
        "disp.plot();"
      ],
      "execution_count": 45,
      "outputs": [
        {
          "output_type": "display_data",
          "data": {
            "image/png": "[encoded data removed]",
            "text/plain": [
              "<Figure size 432x288 with 2 Axes>"
            ]
          },
          "metadata": {
            "tags": []
          }
        }
      ]
    },
    {
      "cell_type": "code",
      "metadata": {
        "id": "5JXs4sqbtzaT",
        "outputId": "ca107e85-8a4d-48cb-e500-63097194da09",
        "colab": {
          "base_uri": "https://localhost:8080/"
        }
      },
      "source": [
        "print(f'F1 score: {f1_score(y_clf, y_pred)}')\n",
        "print(f'accuracy: {accuracy_score(y_clf, y_pred)}')\n",
        "print(f'recall: {recall_score(y_clf, y_pred)}')\n",
        "print(f'precision: {precision_score(y_clf, y_pred)}')"
      ],
      "execution_count": 46,
      "outputs": [
        {
          "output_type": "stream",
          "text": [
            "F1 score: 0.838709677419355\n",
            "accuracy: 0.984036488027366\n",
            "recall: 0.8272727272727273\n",
            "precision: 0.8504672897196262\n"
          ],
          "name": "stdout"
        }
      ]
    },
    {
      "cell_type": "code",
      "metadata": {
        "colab": {
          "base_uri": "https://localhost:8080/"
        },
        "id": "qACZq0NqwHwW",
        "outputId": "5f7abca7-7063-4511-8799-df99551399be"
      },
      "source": [
        "balanced_accuracy_score(y_clf, y_pred)"
      ],
      "execution_count": 47,
      "outputs": [
        {
          "output_type": "execute_result",
          "data": {
            "text/plain": [
              "0.9097948270217178"
            ]
          },
          "metadata": {
            "tags": []
          },
          "execution_count": 47
        }
      ]
    },
    {
      "cell_type": "markdown",
      "metadata": {
        "id": "X1YedgsG59eF"
      },
      "source": [
        "## Random Forest classifier"
      ]
    },
    {
      "cell_type": "code",
      "metadata": {
        "id": "_utHZP8x6CXm",
        "outputId": "67b996d7-4aab-4e45-deee-1798433d19c4",
        "colab": {
          "base_uri": "https://localhost:8080/"
        }
      },
      "source": [
        "clf = RandomForestClassifier()\n",
        "clf.fit(X,y_mclf)\n",
        "clf.score(X,y_mclf)"
      ],
      "execution_count": 48,
      "outputs": [
        {
          "output_type": "execute_result",
          "data": {
            "text/plain": [
              "1.0"
            ]
          },
          "metadata": {
            "tags": []
          },
          "execution_count": 48
        }
      ]
    },
    {
      "cell_type": "code",
      "metadata": {
        "id": "Er5Zw9UZu_hG"
      },
      "source": [
        "y_pred = clf.predict(X)"
      ],
      "execution_count": 49,
      "outputs": []
    },
    {
      "cell_type": "code",
      "metadata": {
        "id": "yVeDqEyByIrH",
        "outputId": "563ecddc-2c70-4d24-a6c5-0767b77fa539",
        "colab": {
          "base_uri": "https://localhost:8080/"
        }
      },
      "source": [
        "cm = confusion_matrix(y_pred, y_mclf)\n",
        "cm"
      ],
      "execution_count": 50,
      "outputs": [
        {
          "output_type": "execute_result",
          "data": {
            "text/plain": [
              "array([[3765,    0,    0],\n",
              "       [   0,  400,    0],\n",
              "       [   0,    0,  220]])"
            ]
          },
          "metadata": {
            "tags": []
          },
          "execution_count": 50
        }
      ]
    },
    {
      "cell_type": "code",
      "metadata": {
        "id": "D0-NVWU_xq8O"
      },
      "source": [
        "t0, f01, f02, f10, t1, f12, f20, f21, t2 = cm.ravel()\n",
        "# print(f'tn: {tn}, fp: {fp}, fn: {fn}, tp: {tp}')"
      ],
      "execution_count": 51,
      "outputs": []
    },
    {
      "cell_type": "code",
      "metadata": {
        "id": "gjN8LXyku5as",
        "outputId": "fd73ca57-c4cb-44e4-aa46-8bf9e8bd905a",
        "colab": {
          "base_uri": "https://localhost:8080/"
        }
      },
      "source": [
        "clf.score(X_test,y_test_mclf)"
      ],
      "execution_count": 52,
      "outputs": [
        {
          "output_type": "execute_result",
          "data": {
            "text/plain": [
              "0.9374615289917518"
            ]
          },
          "metadata": {
            "tags": []
          },
          "execution_count": 52
        }
      ]
    },
    {
      "cell_type": "code",
      "metadata": {
        "id": "6ZT32ZoS8o27",
        "outputId": "a52674d2-8685-4704-8fcb-4a693b4bb991",
        "colab": {
          "base_uri": "https://localhost:8080/",
          "height": 282
        }
      },
      "source": [
        "disp = ConfusionMatrixDisplay(confusion_matrix(y_pred, y_clf), display_labels=log.classes_)\n",
        "disp.plot();"
      ],
      "execution_count": 53,
      "outputs": [
        {
          "output_type": "display_data",
          "data": {
            "image/png": "[encoded data removed]",
            "text/plain": [
              "<Figure size 432x288 with 2 Axes>"
            ]
          },
          "metadata": {
            "tags": []
          }
        }
      ]
    },
    {
      "cell_type": "code",
      "metadata": {
        "id": "HTAVoofFxreB",
        "outputId": "b4075637-f82a-472b-96b0-846c1ef6ce8c",
        "colab": {
          "base_uri": "https://localhost:8080/"
        }
      },
      "source": [
        "y_pred = clf.predict(X_test)\n",
        "y_pred.reshape(1,-1)"
      ],
      "execution_count": 54,
      "outputs": [
        {
          "output_type": "execute_result",
          "data": {
            "text/plain": [
              "array([[0, 0, 0, ..., 2, 2, 2]], dtype=int64)"
            ]
          },
          "metadata": {
            "tags": []
          },
          "execution_count": 54
        }
      ]
    },
    {
      "cell_type": "code",
      "metadata": {
        "id": "PrE3cPlNyjKv",
        "outputId": "e3fbc75c-5cff-43ef-e5a0-8be65f7a2f22",
        "colab": {
          "base_uri": "https://localhost:8080/",
          "height": 711
        }
      },
      "source": [
        "false_positive_rate, true_positive_rate, thresolds = roc_curve(y_test_clf, y_pred)\n",
        "\n",
        "plt.figure(figsize=(10, 8), dpi=100)\n",
        "plt.axis('scaled')\n",
        "plt.xlim([0, 1])\n",
        "plt.ylim([0, 1])\n",
        "plt.title(\"AUC & ROC Curve\")\n",
        "plt.plot(false_positive_rate, true_positive_rate, 'g')\n",
        "plt.fill_between(false_positive_rate, true_positive_rate, facecolor='lightgreen', alpha=0.7)\n",
        "plt.xlabel(\"False Positive Rate\")\n",
        "plt.ylabel(\"True Positive Rate\")\n",
        "plt.show()"
      ],
      "execution_count": 55,
      "outputs": [
        {
          "output_type": "display_data",
          "data": {
            "image/png": "[encoded data removed]",
            "text/plain": [
              "<Figure size 1000x800 with 1 Axes>"
            ]
          },
          "metadata": {
            "tags": []
          }
        }
      ]
    },
    {
      "cell_type": "code",
      "metadata": {
        "id": "eQwVJ-QrwuOM"
      },
      "source": [
        "# tn, fp, fn, tp = cm.ravel()\n",
        "# print(f'F1 score: {2 * tp / (2* tp + fp +fn)}')\n",
        "# print(f'accuracy: { (tp + tn) / (tp +fn + fp + tn)}')\n",
        "# print(f'recall: { tp / (tp + fn)}')\n",
        "# print(f'precision: { tp / (tp + fp)}')"
      ],
      "execution_count": 56,
      "outputs": []
    },
    {
      "cell_type": "code",
      "metadata": {
        "id": "-XOfvFSuqG9h",
        "colab": {
          "base_uri": "https://localhost:8080/",
          "height": 286
        },
        "outputId": "b8bbe7d2-a14c-495f-c5a3-f9668692dc06"
      },
      "source": [
        "plt.plot(clf.feature_importances_)"
      ],
      "execution_count": 57,
      "outputs": [
        {
          "output_type": "execute_result",
          "data": {
            "text/plain": [
              "[<matplotlib.lines.Line2D at 0x7f50f73dddd0>]"
            ]
          },
          "metadata": {
            "tags": []
          },
          "execution_count": 57
        },
        {
          "output_type": "display_data",
          "data": {
            "image/png": "[encoded data removed]",
            "text/plain": [
              "<Figure size 432x288 with 1 Axes>"
            ]
          },
          "metadata": {
            "tags": []
          }
        }
      ]
    },
    {
      "cell_type": "markdown",
      "metadata": {
        "id": "5e_c6b1g6pu2"
      },
      "source": [
        "### Random Forest Classifier - CV"
      ]
    },
    {
      "cell_type": "code",
      "metadata": {
        "id": "dDvaJpha7NMl"
      },
      "source": [
        "# Number of trees in random forest\n",
        "n_estimators = [int(x) for x in np.linspace(start = 200, stop = 2000, num = 10)]\n",
        "\n",
        "# Number of features to consider at every split\n",
        "max_features = ['auto', 'sqrt']\n",
        "\n",
        "# Maximum depth\n",
        "max_depth = [int(x) for x in np.linspace(10, 110, num = 11)]\n",
        "\n",
        "# Minimum number of samples to split a node\n",
        "min_samples_split = [2, 5, 10]\n",
        "\n",
        "# Minimum number of samples at each leaf node\n",
        "min_samples_leaf = [1, 2, 4]\n",
        "\n",
        "# Method of selecting samples for training each tree\n",
        "bootstrap = [True, False]\n",
        "\n",
        "# Create the random grid\n",
        "random_grid = {'n_estimators': n_estimators,\n",
        "               'max_features': max_features,\n",
        "               'max_depth': max_depth,\n",
        "               'min_samples_split': min_samples_split,\n",
        "               'min_samples_leaf': min_samples_leaf,\n",
        "               'bootstrap': bootstrap}"
      ],
      "execution_count": 60,
      "outputs": []
    },
    {
      "cell_type": "code",
      "metadata": {
        "id": "wbHrUYVE6ttj",
        "outputId": "139fbd84-c5ba-42ce-8296-c7a9ffaef712",
        "colab": {
          "base_uri": "https://localhost:8080/"
        }
      },
      "source": [
        "rfc = RandomForestClassifier()\n",
        "\n",
        "rf_mclf = RandomizedSearchCV(estimator = rfc, param_distributions = random_grid, \n",
        "                             n_iter = 100, cv = 3, verbose=2, random_state=42, n_jobs = -1)\n",
        "rf_mclf.fit(X,y_mclf)\n",
        "rf_mclf.score(X,y_mclf)\n",
        "\n",
        "rf_mclf.fit(X,y_mclf)\n",
        "rf_mclf.score(X,y_mclf)"
      ],
      "execution_count": 61,
      "outputs": [
        {
          "output_type": "stream",
          "text": [
            "Fitting 3 folds for each of 100 candidates, totalling 300 fits\n"
          ],
          "name": "stdout"
        },
        {
          "output_type": "stream",
          "text": [
            "[Parallel(n_jobs=-1)]: Using backend LokyBackend with 2 concurrent workers.\n",
            "[Parallel(n_jobs=-1)]: Done  37 tasks      | elapsed:  3.2min\n",
            "[Parallel(n_jobs=-1)]: Done 158 tasks      | elapsed: 11.0min\n",
            "[Parallel(n_jobs=-1)]: Done 300 out of 300 | elapsed: 23.1min finished\n"
          ],
          "name": "stderr"
        },
        {
          "output_type": "stream",
          "text": [
            "Fitting 3 folds for each of 100 candidates, totalling 300 fits\n"
          ],
          "name": "stdout"
        },
        {
          "output_type": "stream",
          "text": [
            "[Parallel(n_jobs=-1)]: Using backend LokyBackend with 2 concurrent workers.\n",
            "[Parallel(n_jobs=-1)]: Done  37 tasks      | elapsed:  3.2min\n",
            "[Parallel(n_jobs=-1)]: Done 158 tasks      | elapsed: 11.0min\n",
            "[Parallel(n_jobs=-1)]: Done 300 out of 300 | elapsed: 23.1min finished\n"
          ],
          "name": "stderr"
        },
        {
          "output_type": "execute_result",
          "data": {
            "text/plain": [
              "0.9874572405929305"
            ]
          },
          "metadata": {
            "tags": []
          },
          "execution_count": 61
        }
      ]
    },
    {
      "cell_type": "code",
      "metadata": {
        "id": "OI-SmD-v-FIt",
        "outputId": "3e8d6e2c-7d11-4673-a3ab-ea22277bf333",
        "colab": {
          "base_uri": "https://localhost:8080/"
        }
      },
      "source": [
        "y_pred = rf_mclf.predict(X)\n",
        "\n",
        "cm = confusion_matrix(y_pred, y_mclf)\n",
        "\n",
        "rf_mclf.score(X_test,y_test_mclf)"
      ],
      "execution_count": 72,
      "outputs": [
        {
          "output_type": "execute_result",
          "data": {
            "text/plain": [
              "0.9383232795765112"
            ]
          },
          "metadata": {
            "tags": []
          },
          "execution_count": 72
        }
      ]
    },
    {
      "cell_type": "code",
      "metadata": {
        "id": "Hq0TO43P-Lmt",
        "outputId": "dd8b220a-0af3-4f75-9aee-d63d9466fc9b",
        "colab": {
          "base_uri": "https://localhost:8080/",
          "height": 335
        }
      },
      "source": [
        "disp = ConfusionMatrixDisplay(confusion_matrix(y_pred, y_mclf), display_labels=log.classes_)\n",
        "disp.plot(cmap='gist_stern');\n",
        "cm"
      ],
      "execution_count": 87,
      "outputs": [
        {
          "output_type": "execute_result",
          "data": {
            "text/plain": [
              "array([[3756,   32,    0],\n",
              "       [   9,  365,   11],\n",
              "       [   0,    3,  209]])"
            ]
          },
          "metadata": {
            "tags": []
          },
          "execution_count": 87
        },
        {
          "output_type": "display_data",
          "data": {
            "image/png": "[encoded data removed]",
            "text/plain": [
              "<Figure size 432x288 with 2 Axes>"
            ]
          },
          "metadata": {
            "tags": []
          }
        }
      ]
    },
    {
      "cell_type": "code",
      "metadata": {
        "id": "J9iGBkd4-ODA",
        "outputId": "aa222918-4cb0-4998-aace-ab54577383aa",
        "colab": {
          "base_uri": "https://localhost:8080/"
        }
      },
      "source": [
        "y_test_pred = rf_mclf.predict(X_test)\n",
        "y_pred.reshape(1,-1)"
      ],
      "execution_count": 74,
      "outputs": [
        {
          "output_type": "execute_result",
          "data": {
            "text/plain": [
              "array([[0, 0, 0, ..., 2, 2, 2]], dtype=int64)"
            ]
          },
          "metadata": {
            "tags": []
          },
          "execution_count": 74
        }
      ]
    },
    {
      "cell_type": "code",
      "metadata": {
        "id": "WxTvA7BkKzrV",
        "outputId": "2a05427c-f0a4-42ff-935a-e6346d413511",
        "colab": {
          "base_uri": "https://localhost:8080/",
          "height": 282
        }
      },
      "source": [
        "disp = ConfusionMatrixDisplay(confusion_matrix(y_test_pred, y_test_mclf), display_labels=log.classes_)\n",
        "disp.plot();"
      ],
      "execution_count": 78,
      "outputs": [
        {
          "output_type": "display_data",
          "data": {
            "image/png": "[encoded data removed]",
            "text/plain": [
              "<Figure size 432x288 with 2 Axes>"
            ]
          },
          "metadata": {
            "tags": []
          }
        }
      ]
    },
    {
      "cell_type": "code",
      "metadata": {
        "id": "cD_sEGiY-Z25",
        "outputId": "acbe88ee-cc25-4d50-e365-fa9ec31d22ee",
        "colab": {
          "base_uri": "https://localhost:8080/"
        }
      },
      "source": [
        "rf_mclf.best_params_"
      ],
      "execution_count": 70,
      "outputs": [
        {
          "output_type": "execute_result",
          "data": {
            "text/plain": [
              "{'bootstrap': True,\n",
              " 'max_depth': 110,\n",
              " 'max_features': 'sqrt',\n",
              " 'min_samples_leaf': 4,\n",
              " 'min_samples_split': 2,\n",
              " 'n_estimators': 800}"
            ]
          },
          "metadata": {
            "tags": []
          },
          "execution_count": 70
        }
      ]
    },
    {
      "cell_type": "code",
      "metadata": {
        "id": "rKDcVuauKFzE",
        "outputId": "dfb3ccb0-0a7e-4419-a74a-90553b6ad27a",
        "colab": {
          "base_uri": "https://localhost:8080/",
          "height": 282
        }
      },
      "source": [
        "plt.scatter(y_mclf[X['cycle']==100], y_pred[X['cycle']==100])"
      ],
      "execution_count": 76,
      "outputs": [
        {
          "output_type": "execute_result",
          "data": {
            "text/plain": [
              "<matplotlib.collections.PathCollection at 0x7f50f6dcf050>"
            ]
          },
          "metadata": {
            "tags": []
          },
          "execution_count": 76
        },
        {
          "output_type": "display_data",
          "data": {
            "image/png": "[encoded data removed]",
            "text/plain": [
              "<Figure size 432x288 with 1 Axes>"
            ]
          },
          "metadata": {
            "tags": []
          }
        }
      ]
    },
    {
      "cell_type": "code",
      "metadata": {
        "id": "4CRrPhWnKJUH",
        "outputId": "2d835c9f-a125-4767-aa1d-a703579130b8",
        "colab": {
          "base_uri": "https://localhost:8080/",
          "height": 282
        }
      },
      "source": [
        "plt.scatter(y_test_mclf[X_test['cycle']==150], y_test_pred[X_test['cycle']==150])"
      ],
      "execution_count": 77,
      "outputs": [
        {
          "output_type": "execute_result",
          "data": {
            "text/plain": [
              "<matplotlib.collections.PathCollection at 0x7f50f6d0d210>"
            ]
          },
          "metadata": {
            "tags": []
          },
          "execution_count": 77
        },
        {
          "output_type": "display_data",
          "data": {
            "image/png": "[encoded data removed]",
            "text/plain": [
              "<Figure size 432x288 with 1 Axes>"
            ]
          },
          "metadata": {
            "tags": []
          }
        }
      ]
    },
    {
      "cell_type": "markdown",
      "metadata": {
        "id": "YGJeuSp-wy2h"
      },
      "source": [
        "## Random Forest Regressor"
      ]
    },
    {
      "cell_type": "code",
      "metadata": {
        "id": "kSEZjDRTe31r"
      },
      "source": [
        "df_train, df_test = tts(df2[['id','cycle', 'setting1', 'setting2', 'a1', 'incr1', 'dec1', \n",
        "                             'a2', 'incr2', 'dec2', 'a3', 'incr3', 'dec3', 'a4', 'incr4', 'dec4', \n",
        "                             'a5', 'incr5', 'dec5', 'a6', 'incr6', 'dec6', 'a7', 'incr7', 'dec7', \n",
        "                             'a8', 'incr8', 'dec8', 'a9', 'incr9', 'dec9', 'a10', 'incr10', 'dec10',\n",
        "                             'a11', 'incr11', 'dec11', 'a12', 'incr12', 'dec12', 'a13', 'incr13', 'dec13',\n",
        "                             'a14', 'incr14', 'dec14', 'a15', 'incr15', 'dec15', 'a16', 'incr16', 'dec16', \n",
        "                             'a17', 'incr17', 'dec17', 'a18','incr18', 'dec18', 'a19', 'incr19', 'dec19', \n",
        "                             'a20',  'incr20', 'dec20', 'a21', 'incr21', 'dec21', 'RUL', 'f10', 'f30', 'eol']])\n",
        "X, y_reg, y_clf, y_mclf = xy_split(df_train)\n",
        "X_test, y_test_reg, y_test_clf, y_test_mclf = xy_split(df_test)"
      ],
      "execution_count": null,
      "outputs": []
    },
    {
      "cell_type": "code",
      "metadata": {
        "id": "pLkxG5Vgp9or"
      },
      "source": [
        "# Number of trees in random forest\n",
        "n_estimators = [int(x) for x in np.linspace(start = 200, stop = 2000, num = 10)]\n",
        "\n",
        "# Number of features to consider at every split\n",
        "max_features = ['auto', 'sqrt']\n",
        "\n",
        "# Maximum depth\n",
        "max_depth = [int(x) for x in np.linspace(10, 110, num = 11)]\n",
        "\n",
        "# Minimum number of samples to split a node\n",
        "min_samples_split = [2, 5, 10]\n",
        "\n",
        "# Minimum number of samples at each leaf node\n",
        "min_samples_leaf = [1, 2, 4]\n",
        "\n",
        "# Method of selecting samples for training each tree\n",
        "bootstrap = [True, False]\n",
        "\n",
        "# Create the random grid\n",
        "random_grid = {'n_estimators': n_estimators,\n",
        "               'max_features': max_features,\n",
        "               'max_depth': max_depth,\n",
        "               'min_samples_split': min_samples_split,\n",
        "               'min_samples_leaf': min_samples_leaf,\n",
        "               'bootstrap': bootstrap}"
      ],
      "execution_count": null,
      "outputs": []
    },
    {
      "cell_type": "code",
      "metadata": {
        "id": "5TfAr5NRw2Z-"
      },
      "source": [
        "clf_reg = RandomForestRegressor(oob_score=True, verbose=1)\n",
        "rf_reg = RandomizedSearchCV(estimator = clf_reg, param_distributions = random_grid, n_iter = 100, cv = 3, verbose=2, random_state=42, n_jobs = -1)\n",
        "rf_reg.fit(X,y_reg)\n",
        "rf_reg.score(X,y_reg)"
      ],
      "execution_count": null,
      "outputs": []
    },
    {
      "cell_type": "code",
      "metadata": {
        "id": "QwELlLNCrDdC"
      },
      "source": [
        "rf_reg.best_params_"
      ],
      "execution_count": null,
      "outputs": []
    },
    {
      "cell_type": "code",
      "metadata": {
        "id": "RZxSIhKkx2jU"
      },
      "source": [
        "y_pred = rf_reg.predict(X)\n",
        "y_test_pred = rf_reg.predict(X_test)\n",
        "rf_reg.score(X_test,y_test_reg)"
      ],
      "execution_count": null,
      "outputs": []
    },
    {
      "cell_type": "code",
      "metadata": {
        "id": "TugBAuDGyOpc"
      },
      "source": [
        "np.sum(y_pred - y_reg.values) / len(y_pred - y_reg.values)"
      ],
      "execution_count": null,
      "outputs": []
    },
    {
      "cell_type": "code",
      "metadata": {
        "id": "oYPR8m58l3KP"
      },
      "source": [
        "len(y_pred)"
      ],
      "execution_count": null,
      "outputs": []
    },
    {
      "cell_type": "code",
      "metadata": {
        "id": "gItsz1KVtnSK"
      },
      "source": [
        "plt.scatter(y_reg[X['cycle']==150], y_pred[X['cycle']==150])"
      ],
      "execution_count": null,
      "outputs": []
    },
    {
      "cell_type": "code",
      "metadata": {
        "id": "r8eZlU7C4lKZ"
      },
      "source": [
        "plt.scatter(y_test_reg[X_test['cycle']==150], y_test_pred[X_test['cycle']==150])"
      ],
      "execution_count": null,
      "outputs": []
    },
    {
      "cell_type": "markdown",
      "metadata": {
        "id": "XHHCDo6R9haJ"
      },
      "source": [
        "## Gradient Boosting Model\n",
        "\n"
      ]
    },
    {
      "cell_type": "markdown",
      "metadata": {
        "id": "83F-KpUZbQWn"
      },
      "source": [
        "### Binary Classification with lightGBM"
      ]
    },
    {
      "cell_type": "code",
      "metadata": {
        "id": "6IQiGjsV9h4u"
      },
      "source": [
        "lgb = LGBMClassifier(random_state=0, metric='auc')\n",
        "lgb.fit(X, y_clf)\n",
        "lgb.score(X, y_clf)"
      ],
      "execution_count": null,
      "outputs": []
    },
    {
      "cell_type": "code",
      "metadata": {
        "id": "esK59jDY-Qec"
      },
      "source": [
        "y_pred = lgb.predict_proba(X_test)[:, 1]\n",
        "\n",
        "auc = roc_auc_score(y_test_clf, y_pred)\n",
        "\n",
        "false_positive_rate, true_positive_rate, thresolds = roc_curve(y_test_clf, y_pred)\n",
        "\n",
        "plt.figure(figsize=(6, 6), dpi=100)\n",
        "plt.axis('scaled')\n",
        "plt.xlim([0, 1])\n",
        "plt.ylim([0, 1])\n",
        "plt.title(\"AUC & ROC Curve\")\n",
        "plt.plot(false_positive_rate, true_positive_rate, 'g')\n",
        "plt.fill_between(false_positive_rate, true_positive_rate, facecolor='lightgreen', alpha=0.7)\n",
        "plt.text(0.95, 0.05, 'AUC = %0.4f' % auc, ha='right', fontsize=12, weight='bold', color='blue')\n",
        "plt.xlabel(\"False Positive Rate\")\n",
        "plt.ylabel(\"True Positive Rate\")\n",
        "plt.show()"
      ],
      "execution_count": null,
      "outputs": []
    },
    {
      "cell_type": "markdown",
      "metadata": {
        "id": "pUaxw7bga1v5"
      },
      "source": [
        "### Regressor with sklearn"
      ]
    },
    {
      "cell_type": "code",
      "metadata": {
        "id": "7w9R1AsHaagK",
        "colab": {
          "base_uri": "https://localhost:8080/"
        },
        "outputId": "e57b3d7f-883b-4142-91fa-e6a793d15a01"
      },
      "source": [
        "from sklearn.ensemble import GradientBoostingRegressor\n",
        "gbr = GradientBoostingRegressor(random_state=0)\n",
        "gbr.fit(X, y_reg)"
      ],
      "execution_count": null,
      "outputs": [
        {
          "output_type": "execute_result",
          "data": {
            "text/plain": [
              "GradientBoostingRegressor(alpha=0.9, ccp_alpha=0.0, criterion='friedman_mse',\n",
              "                          init=None, learning_rate=0.1, loss='ls', max_depth=3,\n",
              "                          max_features=None, max_leaf_nodes=None,\n",
              "                          min_impurity_decrease=0.0, min_impurity_split=None,\n",
              "                          min_samples_leaf=1, min_samples_split=2,\n",
              "                          min_weight_fraction_leaf=0.0, n_estimators=100,\n",
              "                          n_iter_no_change=None, presort='deprecated',\n",
              "                          random_state=0, subsample=1.0, tol=0.0001,\n",
              "                          validation_fraction=0.1, verbose=0, warm_start=False)"
            ]
          },
          "metadata": {
            "tags": []
          },
          "execution_count": 308
        }
      ]
    },
    {
      "cell_type": "code",
      "metadata": {
        "id": "sM-0gMmndptr",
        "colab": {
          "base_uri": "https://localhost:8080/"
        },
        "outputId": "782ccd4d-6151-49de-9f25-3ecfba69e626"
      },
      "source": [
        "y_pred = gbr.predict(X)\n",
        "gbr.score(X, y_reg)"
      ],
      "execution_count": null,
      "outputs": [
        {
          "output_type": "execute_result",
          "data": {
            "text/plain": [
              "0.9865793637298564"
            ]
          },
          "metadata": {
            "tags": []
          },
          "execution_count": 309
        }
      ]
    },
    {
      "cell_type": "code",
      "metadata": {
        "id": "qVO4khTjb9zZ",
        "colab": {
          "base_uri": "https://localhost:8080/"
        },
        "outputId": "4ec70857-5d94-4e14-b8ee-cdf2991884cd"
      },
      "source": [
        "gbr.predict(X_test)\n",
        "gbr.score(X_test, y_test_reg)"
      ],
      "execution_count": null,
      "outputs": [
        {
          "output_type": "execute_result",
          "data": {
            "text/plain": [
              "0.5900809467986812"
            ]
          },
          "metadata": {
            "tags": []
          },
          "execution_count": 310
        }
      ]
    },
    {
      "cell_type": "code",
      "metadata": {
        "id": "k9czPFxad-73",
        "colab": {
          "base_uri": "https://localhost:8080/"
        },
        "outputId": "6298795e-6cc1-448a-80c0-c1ec8c44405e"
      },
      "source": [
        "gbr.feature_importances_"
      ],
      "execution_count": null,
      "outputs": [
        {
          "output_type": "execute_result",
          "data": {
            "text/plain": [
              "array([2.51853917e-01, 6.10220762e-01, 9.72968535e-05, 0.00000000e+00,\n",
              "       0.00000000e+00, 0.00000000e+00, 1.03401892e-03, 8.16589971e-04,\n",
              "       4.14757441e-02, 0.00000000e+00, 2.18324972e-04, 3.42390638e-03,\n",
              "       6.99971049e-04, 4.22898140e-03, 0.00000000e+00, 4.69570815e-02,\n",
              "       8.19630015e-03, 2.72072491e-03, 5.40887679e-03, 9.96219741e-03,\n",
              "       0.00000000e+00, 4.45120878e-03, 0.00000000e+00, 0.00000000e+00,\n",
              "       4.38888630e-03, 3.84521184e-03])"
            ]
          },
          "metadata": {
            "tags": []
          },
          "execution_count": 311
        }
      ]
    },
    {
      "cell_type": "code",
      "metadata": {
        "id": "E01RDjO5edAh",
        "colab": {
          "base_uri": "https://localhost:8080/",
          "height": 283
        },
        "outputId": "9446bfcc-df89-43a9-fc28-bc08e2b989ce"
      },
      "source": [
        "plt.plot(gbr.feature_importances_)"
      ],
      "execution_count": null,
      "outputs": [
        {
          "output_type": "execute_result",
          "data": {
            "text/plain": [
              "[<matplotlib.lines.Line2D at 0x7feeb4639050>]"
            ]
          },
          "metadata": {
            "tags": []
          },
          "execution_count": 312
        },
        {
          "output_type": "display_data",
          "data": {
            "image/png": "[encoded data removed]",
            "text/plain": [
              "<Figure size 432x288 with 1 Axes>"
            ]
          },
          "metadata": {
            "tags": []
          }
        }
      ]
    },
    {
      "cell_type": "code",
      "metadata": {
        "id": "adbJwJNS4cpV",
        "colab": {
          "base_uri": "https://localhost:8080/",
          "height": 283
        },
        "outputId": "671a5c2a-ec2c-4b4b-d11c-da494112c7d9"
      },
      "source": [
        "plt.scatter(y_reg[X['cycle']==10], y_pred[X['cycle']==10])"
      ],
      "execution_count": null,
      "outputs": [
        {
          "output_type": "execute_result",
          "data": {
            "text/plain": [
              "<matplotlib.collections.PathCollection at 0x7feeb453aad0>"
            ]
          },
          "metadata": {
            "tags": []
          },
          "execution_count": 313
        },
        {
          "output_type": "display_data",
          "data": {
            "image/png": "[encoded data removed]",
            "text/plain": [
              "<Figure size 432x288 with 1 Axes>"
            ]
          },
          "metadata": {
            "tags": []
          }
        }
      ]
    },
    {
      "cell_type": "code",
      "metadata": {
        "id": "KtnXuAXFRL4n",
        "colab": {
          "base_uri": "https://localhost:8080/",
          "height": 283
        },
        "outputId": "1a32a40f-a8ab-457b-e3ec-1088be7bba6a"
      },
      "source": [
        "plt.scatter(y_test_reg[X_test['cycle']==10], gbr.predict(X_test)[X_test['cycle']==10])"
      ],
      "execution_count": null,
      "outputs": [
        {
          "output_type": "execute_result",
          "data": {
            "text/plain": [
              "<matplotlib.collections.PathCollection at 0x7feeb4c9ef10>"
            ]
          },
          "metadata": {
            "tags": []
          },
          "execution_count": 314
        },
        {
          "output_type": "display_data",
          "data": {
            "image/png": "[encoded data removed]",
            "text/plain": [
              "<Figure size 432x288 with 1 Axes>"
            ]
          },
          "metadata": {
            "tags": []
          }
        }
      ]
    },
    {
      "cell_type": "markdown",
      "metadata": {
        "id": "HJlsW4yi5h52"
      },
      "source": [
        "## Neural Networks with TensorFlow (LSTM) as Classifier"
      ]
    },
    {
      "cell_type": "code",
      "metadata": {
        "id": "uHmgv4Y8fL00"
      },
      "source": [
        "# MODELLING.....pick a large window size of 50 cycles\n",
        "seq_length = 3"
      ],
      "execution_count": null,
      "outputs": []
    },
    {
      "cell_type": "code",
      "metadata": {
        "id": "l2ljwA06eNhp"
      },
      "source": [
        "seq_cols = [\"cycle\",\"setting1\",\"setting2\",\"setting3\",\"s1\",\"s2\",\"s3\",\"s4\",\"s5\",\"s6\",\"s7\",\"s8\",\"s9\",\"s10\",\"s11\",\"s12\",\"s13\",\"s14\",\"s15\",\"s16\",\"s17\",\"s18\",\"s19\",\"s20\",\"s21\"]"
      ],
      "execution_count": null,
      "outputs": []
    },
    {
      "cell_type": "markdown",
      "metadata": {
        "id": "Ir5fVTseS9wA"
      },
      "source": [
        "#### Generate sequences"
      ]
    },
    {
      "cell_type": "code",
      "metadata": {
        "id": "pPs0s3-gnuV6"
      },
      "source": [
        "# generator for the sequences\n",
        "seq_gen = (list(gen_sequence(df1[df1['id']==id], seq_length, seq_cols)) \n",
        "           for id in df1['id'].unique())"
      ],
      "execution_count": null,
      "outputs": []
    },
    {
      "cell_type": "code",
      "metadata": {
        "id": "csJsKSt7nwUg"
      },
      "source": [
        "# generate sequences and convert to numpy array\n",
        "seq_array = np.concatenate(list(seq_gen)).astype(np.float32)\n",
        "seq_array.shape"
      ],
      "execution_count": null,
      "outputs": []
    },
    {
      "cell_type": "markdown",
      "metadata": {
        "id": "Vi58leq_TBpz"
      },
      "source": [
        "#### Generate labels"
      ]
    },
    {
      "cell_type": "code",
      "metadata": {
        "id": "USklhZoTfPTn"
      },
      "source": [
        "# generate labels\n",
        "label_gen = [gen_labels(df1[df1['id']==id], seq_length, ['f10']) \n",
        "             for id in df1['id'].unique()]\n",
        "label_array = np.concatenate(label_gen).astype(np.float32)\n",
        "label_array.shape"
      ],
      "execution_count": null,
      "outputs": []
    },
    {
      "cell_type": "markdown",
      "metadata": {
        "id": "BzlDSfS7S24p"
      },
      "source": [
        "#### Define LSTM network"
      ]
    },
    {
      "cell_type": "code",
      "metadata": {
        "id": "cRmyXq6ufRRy"
      },
      "source": [
        "# Define the LSTM network\n",
        "nb_features = seq_array.shape[2]\n",
        "nb_out = label_array.shape[1]\n",
        "\n",
        "lstm_c = Sequential()\n",
        "\n",
        "lstm_c.add(LSTM(\n",
        "         input_shape=(seq_length, nb_features),\n",
        "         units=100,\n",
        "         return_sequences=False))\n",
        "# lstm_c.add(Dropout(0.2))\n",
        "\n",
        "# lstm_c.add(LSTM(\n",
        "#           units=50,\n",
        "#           return_sequences=False))\n",
        "# lstm_c.add(Dropout(0.2))\n",
        "\n",
        "lstm_c.add(Dense(units=nb_out, activation='sigmoid'))\n",
        "lstm_c.compile(loss='binary_crossentropy', optimizer='adam', metrics=['accuracy', tf.keras.metrics.Precision()])\n",
        "\n",
        "print(lstm_c.summary())"
      ],
      "execution_count": null,
      "outputs": []
    },
    {
      "cell_type": "markdown",
      "metadata": {
        "id": "9vuip1_uTFaO"
      },
      "source": [
        "#### Train model"
      ]
    },
    {
      "cell_type": "code",
      "metadata": {
        "id": "U7meN-wkfWPR"
      },
      "source": [
        "# Train the network\n",
        "lstm_c.fit(seq_array, label_array, epochs=30, batch_size=200, validation_split=0.10, verbose=1,\n",
        "          callbacks = [callbacks.EarlyStopping(monitor='val_loss', min_delta=0, patience=2, verbose=1, mode='auto')])\n",
        "\n",
        "# training metrics\n",
        "scores = lstm_c.evaluate(seq_array, label_array, verbose=1, batch_size=200)\n",
        "scores"
      ],
      "execution_count": null,
      "outputs": []
    },
    {
      "cell_type": "markdown",
      "metadata": {
        "id": "EUBW3EtBTIfg"
      },
      "source": [
        "#### Make predictions"
      ]
    },
    {
      "cell_type": "code",
      "metadata": {
        "id": "5QB_rpswfni8"
      },
      "source": [
        "# make predictions and compute confusion matrix\n",
        "y_pred = lstm_c.predict(seq_array) "
      ],
      "execution_count": null,
      "outputs": []
    },
    {
      "cell_type": "code",
      "metadata": {
        "id": "enpT8LIomGv1"
      },
      "source": [
        "y_true = label_array\n",
        "y_true.ravel()"
      ],
      "execution_count": null,
      "outputs": []
    },
    {
      "cell_type": "code",
      "metadata": {
        "id": "CiDsleplmvbA"
      },
      "source": [
        "cm = confusion_matrix(y_true, y_pred)\n",
        "tn, fp, fn, tp = cm.ravel()\n",
        "print(f'tn: {tn}, fp: {fp}, fn: {fn}, tp: {tp}')"
      ],
      "execution_count": null,
      "outputs": []
    },
    {
      "cell_type": "markdown",
      "metadata": {
        "id": "hUxeoWSyTZSF"
      },
      "source": [
        "#### Confusion Matrix"
      ]
    },
    {
      "cell_type": "code",
      "metadata": {
        "id": "d_4KVG2U2mRg"
      },
      "source": [
        "disp = ConfusionMatrixDisplay(cm, display_labels=[0,1])\n",
        "disp.plot();\n"
      ],
      "execution_count": null,
      "outputs": []
    },
    {
      "cell_type": "markdown",
      "metadata": {
        "id": "dqpSGYsiTdGP"
      },
      "source": [
        "#### Performance measures"
      ]
    },
    {
      "cell_type": "code",
      "metadata": {
        "id": "qo9yZlu4gOfC"
      },
      "source": [
        "print(f'F1 score: {2 * tp / (2* tp + fp +fn)}')\n",
        "print(f'accuracy: { (tp + tn) / (tp +fn + fp + tn)}')\n",
        "print(f'recall: { tp / (tp + fn)}')\n",
        "print(f'precision: { tp / (tp + fp)}')"
      ],
      "execution_count": null,
      "outputs": []
    },
    {
      "cell_type": "code",
      "metadata": {
        "id": "f3tD1a25hVuR"
      },
      "source": [
        "\n",
        "# compute AUC\n",
        "from sklearn.metrics import roc_auc_score\n",
        "auc = roc_auc_score(y_true, y_pred)\n",
        "print( f'auc = {auc}')"
      ],
      "execution_count": null,
      "outputs": []
    },
    {
      "cell_type": "markdown",
      "metadata": {
        "id": "A0pcIvtpRXqC"
      },
      "source": [
        "#### Data Checking and Fault Isolation"
      ]
    },
    {
      "cell_type": "code",
      "metadata": {
        "id": "YriRUggE5r_l"
      },
      "source": [
        "len(next(seq_gen))"
      ],
      "execution_count": null,
      "outputs": []
    },
    {
      "cell_type": "code",
      "metadata": {
        "id": "vxrAE6lY34hU"
      },
      "source": [
        "eng_id3.shape"
      ],
      "execution_count": null,
      "outputs": []
    },
    {
      "cell_type": "code",
      "metadata": {
        "id": "PeltpMpT4lEX"
      },
      "source": [
        "eng = gen_sequence(eng_id3, 5, [\"s1\",\"s2\",\"s3\",\"s4\",\"s5\",\"s6\"])"
      ],
      "execution_count": null,
      "outputs": []
    },
    {
      "cell_type": "code",
      "metadata": {
        "id": "hDSYtHON5N-6"
      },
      "source": [
        "next(eng)"
      ],
      "execution_count": null,
      "outputs": []
    },
    {
      "cell_type": "code",
      "metadata": {
        "id": "n3RThkft9jql"
      },
      "source": [
        "df1.id.value_counts().sort_values()"
      ],
      "execution_count": null,
      "outputs": []
    },
    {
      "cell_type": "code",
      "metadata": {
        "id": "EcK5lE18-VLM"
      },
      "source": [
        "df1[df1['id']==99]"
      ],
      "execution_count": null,
      "outputs": []
    },
    {
      "cell_type": "code",
      "metadata": {
        "id": "BFrGoTAt9EOR"
      },
      "source": [
        "eng99 = gen_sequence(df1[df1['id']==99], 50, ['cycle',\"s1\",\"s2\",\"s3\",\"s4\",\"s5\",\"s6\"])\n",
        "next(eng99)"
      ],
      "execution_count": null,
      "outputs": []
    },
    {
      "cell_type": "code",
      "metadata": {
        "id": "DHnAsg2WITy2"
      },
      "source": [
        "label_array[130:200,:]"
      ],
      "execution_count": null,
      "outputs": []
    },
    {
      "cell_type": "code",
      "metadata": {
        "id": "EqoB8xDnCx4J"
      },
      "source": [
        "np.sum(label_array)"
      ],
      "execution_count": null,
      "outputs": []
    },
    {
      "cell_type": "code",
      "metadata": {
        "id": "hE7KvpZx0WxK"
      },
      "source": [
        "seq_array[0].shape"
      ],
      "execution_count": null,
      "outputs": []
    },
    {
      "cell_type": "code",
      "metadata": {
        "id": "xij-phUy3n-y"
      },
      "source": [
        "seq_length"
      ],
      "execution_count": null,
      "outputs": []
    },
    {
      "cell_type": "code",
      "metadata": {
        "id": "kNWoo5GdnA2L"
      },
      "source": [
        "len(y_pred)"
      ],
      "execution_count": null,
      "outputs": []
    },
    {
      "cell_type": "code",
      "metadata": {
        "id": "W03F8U-8EBm7"
      },
      "source": [
        "np.sum(y_pred)"
      ],
      "execution_count": null,
      "outputs": []
    },
    {
      "cell_type": "markdown",
      "metadata": {
        "id": "TP4Al-w3oYRG"
      },
      "source": [
        "## Neural Networks with TensorFlow (LSTM) as Regressor"
      ]
    },
    {
      "cell_type": "markdown",
      "metadata": {
        "id": "yu7P845ATs-U"
      },
      "source": [
        "#### Prepare model inputs"
      ]
    },
    {
      "cell_type": "code",
      "metadata": {
        "id": "nEUGEdCnoee7"
      },
      "source": [
        "# MODELLING.....pick a large window size of 50 cycles\n",
        "seq_length = 3\n",
        "seq_cols = [\"cycle\",\"setting1\",\"setting2\",\"setting3\",\"s1\",\"s2\",\"s3\",\"s4\",\"s5\",\"s6\",\"s7\",\"s8\",\"s9\",\"s10\",\"s11\",\"s12\",\"s13\",\"s14\",\"s15\",\"s16\",\"s17\",\"s18\",\"s19\",\"s20\",\"s21\"]\n",
        "\n",
        "# generator for the sequences\n",
        "seq_gen = (list(gen_sequence(df1[df1['id']==id], seq_length, seq_cols)) \n",
        "           for id in df1['id'].unique())\n",
        "\n",
        "# generate sequences and convert to numpy array\n",
        "seq_array = np.concatenate(list(seq_gen)).astype(np.float32)\n",
        "seq_array.shape\n",
        "\n",
        "# generate labels\n",
        "label_gen = [gen_labels(df1[df1['id']==id], seq_length, ['RUL']) \n",
        "             for id in df1['id'].unique()]\n",
        "label_array = np.concatenate(label_gen).astype(np.float32)\n",
        "label_array.shape\n",
        "\n"
      ],
      "execution_count": null,
      "outputs": []
    },
    {
      "cell_type": "markdown",
      "metadata": {
        "id": "I35vXACJTzO3"
      },
      "source": [
        "#### Define model"
      ]
    },
    {
      "cell_type": "code",
      "metadata": {
        "id": "4eLDgIANpiPw"
      },
      "source": [
        "# Define the LSTM network\n",
        "nb_features = seq_array.shape[2]\n",
        "nb_out = label_array.shape[1]\n",
        "\n",
        "lstm = Sequential()\n",
        "\n",
        "lstm.add(LSTM(\n",
        "         input_shape=(seq_length, nb_features),\n",
        "         units=100,\n",
        "         return_sequences=False))\n",
        "# lstm.add(Dropout(0.2))\n",
        "\n",
        "# lstm.add(LSTM(\n",
        "#           units=50,\n",
        "#           return_sequences=False))\n",
        "# lstm.add(Dropout(0.2))\n",
        "\n",
        "lstm.add(Dense(units=1, activation='linear'))\n",
        "lstm.compile(loss='mean_squared_error', optimizer=tf.keras.optimizers.Adam(learning_rate=0.1, amsgrad=True), metrics=['mse'])\n",
        "\n",
        "print(lstm.summary())"
      ],
      "execution_count": null,
      "outputs": []
    },
    {
      "cell_type": "markdown",
      "metadata": {
        "id": "XujtqVD9T1lr"
      },
      "source": [
        "#### Train model"
      ]
    },
    {
      "cell_type": "code",
      "metadata": {
        "id": "ZM8RkZuMpFpU"
      },
      "source": [
        "# Train the network\n",
        "lstm.fit(seq_array, label_array, epochs=100, batch_size=200, validation_split=0.10, verbose=1,\n",
        "          callbacks = [callbacks.EarlyStopping(monitor='val_loss', patience=100, min_delta=0, verbose=1, mode='auto')])\n",
        "          # , callbacks.ReduceLROnPlateau()\n",
        "\n",
        "# training metrics\n",
        "scores = lstm.evaluate(seq_array, label_array, verbose=1, batch_size=200)\n",
        "scores"
      ],
      "execution_count": null,
      "outputs": []
    },
    {
      "cell_type": "markdown",
      "metadata": {
        "id": "2GsqfAmBT4jW"
      },
      "source": [
        "#### Make predictions"
      ]
    },
    {
      "cell_type": "code",
      "metadata": {
        "id": "7BAxW1Jlprse"
      },
      "source": [
        "# make predictions \n",
        "y_pred = lstm.predict(seq_array) \n",
        "y_pred.shape"
      ],
      "execution_count": null,
      "outputs": []
    },
    {
      "cell_type": "code",
      "metadata": {
        "id": "UqYRtyl8tD9j"
      },
      "source": [
        "y_pred"
      ],
      "execution_count": null,
      "outputs": []
    },
    {
      "cell_type": "markdown",
      "metadata": {
        "id": "AcIbhQ2ItZFn"
      },
      "source": [
        "## "
      ]
    }
  ]
}